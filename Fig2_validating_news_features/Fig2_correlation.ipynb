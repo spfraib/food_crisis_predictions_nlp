{
 "cells": [
  {
   "cell_type": "code",
   "execution_count": 1,
   "metadata": {
    "collapsed": true
   },
   "outputs": [],
   "source": [
    "import pandas as pd\n",
    "import geopandas as gpd"
   ]
  },
  {
   "cell_type": "code",
   "execution_count": 2,
   "metadata": {},
   "outputs": [],
   "source": [
    "df = pd.read_csv('per_district_time_structured_raw.csv')"
   ]
  },
  {
   "cell_type": "code",
   "execution_count": 4,
   "metadata": {
    "collapsed": true
   },
   "outputs": [],
   "source": [
    "data2 = gpd.read_file('./Artemis_21.shp')"
   ]
  },
  {
   "cell_type": "code",
   "execution_count": 5,
   "metadata": {
    "collapsed": true
   },
   "outputs": [],
   "source": [
    "def map_admin_code(x):\n",
    "    return data2[data2['admin_code']==x]['geometry'].values[0]"
   ]
  },
  {
   "cell_type": "code",
   "execution_count": 6,
   "metadata": {
    "collapsed": true
   },
   "outputs": [],
   "source": [
    "df['geometry'] = df['admin_code'].apply(map_admin_code)"
   ]
  },
  {
   "cell_type": "code",
   "execution_count": null,
   "metadata": {
    "collapsed": true
   },
   "outputs": [],
   "source": [
    "gd = gpd.GeoDataFrame(df, geometry='geometry')"
   ]
  },
  {
   "cell_type": "markdown",
   "metadata": {},
   "source": [
    "# GeoJson file used to plot Fig 2A-J"
   ]
  },
  {
   "cell_type": "code",
   "execution_count": null,
   "metadata": {
    "collapsed": true
   },
   "outputs": [],
   "source": [
    "gd.to_file('per_district_pct.geojson', driver='GeoJSON')"
   ]
  },
  {
   "cell_type": "markdown",
   "metadata": {},
   "source": [
    "# Time Series and Correlation to plot Fig2K-O"
   ]
  },
  {
   "cell_type": "code",
   "execution_count": 3,
   "metadata": {},
   "outputs": [
    {
     "name": "stdout",
     "output_type": "stream",
     "text": [
      "0.8938953880237427\n",
      "0.8984221332908395\n",
      "0.8971595101376374\n",
      "0.8934045715011673\n",
      "0.9042595793647775\n"
     ]
    }
   ],
   "source": [
    "from scipy import stats\n",
    "print stats.spearmanr(df['news_rank_ndvi_mean_t'], df['struct_rank_ndvi_mean_t']).correlation\n",
    "print stats.spearmanr(df['news_rank_et_mean_t'], df['struct_rank_et_mean_t']).correlation\n",
    "print stats.spearmanr(df['news_rank_p_staple_food_t'], df['struct_rank_p_staple_food_t']).correlation\n",
    "print stats.spearmanr(df['news_rank_rain_mean_t'], df['struct_rank_rain_mean_t']).correlation\n",
    "print stats.spearmanr(df['news_rank_acled_count_t'], df['struct_rank_acled_count_t']).correlation"
   ]
  }
 ],
 "metadata": {
  "kernelspec": {
   "display_name": "Python 2",
   "language": "python",
   "name": "python2"
  },
  "language_info": {
   "codemirror_mode": {
    "name": "ipython",
    "version": 2
   },
   "file_extension": ".py",
   "mimetype": "text/x-python",
   "name": "python",
   "nbconvert_exporter": "python",
   "pygments_lexer": "ipython2",
   "version": "2.7.16"
  }
 },
 "nbformat": 4,
 "nbformat_minor": 2
}
