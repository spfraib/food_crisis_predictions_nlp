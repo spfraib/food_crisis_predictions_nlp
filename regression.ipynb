{
 "cells": [
  {
   "cell_type": "code",
   "execution_count": 1,
   "metadata": {
    "collapsed": true
   },
   "outputs": [],
   "source": [
    "import pandas as pd\n",
    "import numpy as np"
   ]
  },
  {
   "cell_type": "code",
   "execution_count": 2,
   "metadata": {
    "collapsed": true
   },
   "outputs": [],
   "source": [
    "time_series = pd.read_csv('/home/ananth/Downloads/time_series_with_causes_zscore_full.csv')"
   ]
  },
  {
   "cell_type": "code",
   "execution_count": 7,
   "metadata": {},
   "outputs": [
    {
     "data": {
      "text/plain": [
       "array(['Unnamed: 0', 'index', 'country', 'admin_code', 'admin_name',\n",
       "       'centx', 'centy', 'year_month', 'year', 'month', 'fews_ipc',\n",
       "       'fews_ha', 'fews_proj_near', 'fews_proj_near_ha', 'fews_proj_med',\n",
       "       'fews_proj_med_ha', 'ndvi_mean', 'ndvi_anom', 'rain_mean',\n",
       "       'rain_anom', 'et_mean', 'et_anom', 'acled_count',\n",
       "       'acled_fatalities', 'p_staple_food', 'area', 'cropland_pct', 'pop',\n",
       "       'ruggedness_mean', 'pasture_pct', 'change_fews', 'land seizures_0',\n",
       "       'land seizures_1', 'land seizures_2', 'slashed export_0',\n",
       "       'slashed export_1', 'slashed export_2', 'price rise_0',\n",
       "       'price rise_1', 'price rise_2', 'mass hunger_0', 'mass hunger_1',\n",
       "       'mass hunger_2', 'cyclone_0', 'cyclone_1', 'cyclone_2',\n",
       "       'failed crops_0', 'failed crops_1', 'failed crops_2',\n",
       "       'disruption to farming_0', 'disruption to farming_1',\n",
       "       'disruption to farming_2', 'massive starvation_0',\n",
       "       'massive starvation_1', 'massive starvation_2',\n",
       "       'abnormally low rainfall_0', 'abnormally low rainfall_1',\n",
       "       'abnormally low rainfall_2', 'withheld relief_0',\n",
       "       'withheld relief_1', 'withheld relief_2', 'international alarm_0',\n",
       "       'international alarm_1', 'international alarm_2',\n",
       "       'reduced national output_0', 'reduced national output_1',\n",
       "       'reduced national output_2', 'oppressive regimes_0',\n",
       "       'oppressive regimes_1', 'oppressive regimes_2', 'pests_0',\n",
       "       'pests_1', 'pests_2', 'continued deterioration_0',\n",
       "       'continued deterioration_1', 'continued deterioration_2',\n",
       "       'forests destroyed_0', 'forests destroyed_1',\n",
       "       'forests destroyed_2', 'man-made disaster_0',\n",
       "       'man-made disaster_1', 'man-made disaster_2', 'food insecurity_0',\n",
       "       'food insecurity_1', 'food insecurity_2',\n",
       "       'harvests are devastated_0', 'harvests are devastated_1',\n",
       "       'harvests are devastated_2', 'humanitarian situation_0',\n",
       "       'humanitarian situation_1', 'humanitarian situation_2',\n",
       "       'economic impoverishment_0', 'economic impoverishment_1',\n",
       "       'economic impoverishment_2', 'clan battle_0', 'clan battle_1',\n",
       "       'clan battle_2', 'population crisis_0', 'population crisis_1',\n",
       "       'population crisis_2', 'aid appeal_0', 'aid appeal_1',\n",
       "       'aid appeal_2', 'weather extremes_0', 'weather extremes_1',\n",
       "       'weather extremes_2', 'anti-western policies_0',\n",
       "       'anti-western policies_1', 'anti-western policies_2',\n",
       "       'rinderpest_0', 'rinderpest_1', 'rinderpest_2',\n",
       "       'inadequate rainfall_0', 'inadequate rainfall_1',\n",
       "       'inadequate rainfall_2', 'lack of authority_0',\n",
       "       'lack of authority_1', 'lack of authority_2', 'acute hunger_0',\n",
       "       'acute hunger_1', 'acute hunger_2', 'foreign troops_0',\n",
       "       'foreign troops_1', 'foreign troops_2',\n",
       "       'increased external debt_0', 'increased external debt_1',\n",
       "       'increased external debt_2', 'drought_0', 'drought_1', 'drought_2',\n",
       "       'conflict_0', 'conflict_1', 'conflict_2', 'failed rains_0',\n",
       "       'failed rains_1', 'failed rains_2', 'makeshift camps_0',\n",
       "       'makeshift camps_1', 'makeshift camps_2', 'civilians uprooted_0',\n",
       "       'civilians uprooted_1', 'civilians uprooted_2', 'dysfunction_0',\n",
       "       'dysfunction_1', 'dysfunction_2', 'foreign aid_0', 'foreign aid_1',\n",
       "       'foreign aid_2', 'violent suppression_0', 'violent suppression_1',\n",
       "       'violent suppression_2', 'military dictatorship_0',\n",
       "       'military dictatorship_1', 'military dictatorship_2',\n",
       "       'climatic hazards_0', 'climatic hazards_1', 'climatic hazards_2',\n",
       "       'migration_0', 'migration_1', 'migration_2', 'land grab_0',\n",
       "       'land grab_1', 'land grab_2', 'terrorism_0', 'terrorism_1',\n",
       "       'terrorism_2', 'bombing campaign_0', 'bombing campaign_1',\n",
       "       'bombing campaign_2', 'collapsing economy_0',\n",
       "       'collapsing economy_1', 'collapsing economy_2', 'military junta_0',\n",
       "       'military junta_1', 'military junta_2', 'climate change_0',\n",
       "       'climate change_1', 'climate change_2', 'rising inflation_0',\n",
       "       'rising inflation_1', 'rising inflation_2',\n",
       "       'international terrorists_0', 'international terrorists_1',\n",
       "       'international terrorists_2', 'cycle of poverty_0',\n",
       "       'cycle of poverty_1', 'cycle of poverty_2', 'bad harvests_0',\n",
       "       'bad harvests_1', 'bad harvests_2', 'destructive pattern_0',\n",
       "       'destructive pattern_1', 'destructive pattern_2',\n",
       "       'price of food_0', 'price of food_1', 'price of food_2',\n",
       "       'corrupt government_0', 'corrupt government_1',\n",
       "       'corrupt government_2', 'militia groups_0', 'militia groups_1',\n",
       "       'militia groups_2', 'poor soil quality_0', 'poor soil quality_1',\n",
       "       'poor soil quality_2', 'cattle plague_0', 'cattle plague_1',\n",
       "       'cattle plague_2', 'food assistance_0', 'food assistance_1',\n",
       "       'food assistance_2', 'continued strife_0', 'continued strife_1',\n",
       "       'continued strife_2', 'ecological crisis_0', 'ecological crisis_1',\n",
       "       'ecological crisis_2', 'hunger crises_0', 'hunger crises_1',\n",
       "       'hunger crises_2', 'rising food prices_0', 'rising food prices_1',\n",
       "       'rising food prices_2', 'restricted humanitarian access_0',\n",
       "       'restricted humanitarian access_1',\n",
       "       'restricted humanitarian access_2', 'water availability_0',\n",
       "       'water availability_1', 'water availability_2', 'alarming level_0',\n",
       "       'alarming level_1', 'alarming level_2', 'police torture_0',\n",
       "       'police torture_1', 'police torture_2', 'potato blight_0',\n",
       "       'potato blight_1', 'potato blight_2', 'the offensive_0',\n",
       "       'the offensive_1', 'the offensive_2', 'land invasions_0',\n",
       "       'land invasions_1', 'land invasions_2', 'clan warfare_0',\n",
       "       'clan warfare_1', 'clan warfare_2', 'stolen food aid_0',\n",
       "       'stolen food aid_1', 'stolen food aid_2',\n",
       "       'politically engineered_0', 'politically engineered_1',\n",
       "       'politically engineered_2', 'scanty rainfall_0',\n",
       "       'scanty rainfall_1', 'scanty rainfall_2',\n",
       "       'water distribution shortages_0', 'water distribution shortages_1',\n",
       "       'water distribution shortages_2', 'cattle death_0',\n",
       "       'cattle death_1', 'cattle death_2', 'asylum seekers_0',\n",
       "       'asylum seekers_1', 'asylum seekers_2', 'major offensive_0',\n",
       "       'major offensive_1', 'major offensive_2',\n",
       "       'without international aid_0', 'without international aid_1',\n",
       "       'without international aid_2', 'prolonged dry spell_0',\n",
       "       'prolonged dry spell_1', 'prolonged dry spell_2', 'rise_0',\n",
       "       'rise_1', 'rise_2', 'restricted relief flights_0',\n",
       "       'restricted relief flights_1', 'restricted relief flights_2',\n",
       "       'civil strife_0', 'civil strife_1', 'civil strife_2',\n",
       "       'aid workers died_0', 'aid workers died_1', 'aid workers died_2',\n",
       "       'rival warlords_0', 'rival warlords_1', 'rival warlords_2',\n",
       "       'land reform_0', 'land reform_1', 'land reform_2',\n",
       "       'lack of roads_0', 'lack of roads_1', 'lack of roads_2',\n",
       "       'pushing peasants off_0', 'pushing peasants off_1',\n",
       "       'pushing peasants off_2', 'locusts_0', 'locusts_1', 'locusts_2',\n",
       "       'gangs of bandits_0', 'gangs of bandits_1', 'gangs of bandits_2',\n",
       "       'repression_0', 'repression_1', 'repression_2',\n",
       "       'humanitarian disaster_0', 'humanitarian disaster_1',\n",
       "       'humanitarian disaster_2', 'years of warfare_0',\n",
       "       'years of warfare_1', 'years of warfare_2', 'floods_0', 'floods_1',\n",
       "       'floods_2', 'unable to sow_0', 'unable to sow_1',\n",
       "       'unable to sow_2', 'transport bottleneck_0',\n",
       "       'transport bottleneck_1', 'transport bottleneck_2', 'pirates_0',\n",
       "       'pirates_1', 'pirates_2', 'reduced imports_0', 'reduced imports_1',\n",
       "       'reduced imports_2', 'apathy_0', 'apathy_1', 'apathy_2', 'coup_0',\n",
       "       'coup_1', 'coup_2', 'epidemics_0', 'epidemics_1', 'epidemics_2',\n",
       "       'siege_0', 'siege_1', 'siege_2', 'power struggle_0',\n",
       "       'power struggle_1', 'power struggle_2', 'livestock had died_0',\n",
       "       'livestock had died_1', 'livestock had died_2', 'blockade_0',\n",
       "       'blockade_1', 'blockade_2', 'burning houses_0', 'burning houses_1',\n",
       "       'burning houses_2', 'brain drain_0', 'brain drain_1',\n",
       "       'brain drain_2', 'severe rains_0', 'severe rains_1',\n",
       "       'severe rains_2', 'infrastructure damage_0',\n",
       "       'infrastructure damage_1', 'infrastructure damage_2',\n",
       "       'land degradation_0', 'land degradation_1', 'land degradation_2',\n",
       "       'human rights abuses_0', 'human rights abuses_1',\n",
       "       'human rights abuses_2', 'lack of cultivation_0',\n",
       "       'lack of cultivation_1', 'lack of cultivation_2',\n",
       "       'harvest decline_0', 'harvest decline_1', 'harvest decline_2',\n",
       "       'flee_0', 'flee_1', 'flee_2', 'economic crisis_0',\n",
       "       'economic crisis_1', 'economic crisis_2', 'greenhouse gases_0',\n",
       "       'greenhouse gases_1', 'greenhouse gases_2', 'prolonged fighting_0',\n",
       "       'prolonged fighting_1', 'prolonged fighting_2', 'tragedy_0',\n",
       "       'tragedy_1', 'tragedy_2', 'slave trade_0', 'slave trade_1',\n",
       "       'slave trade_2', 'environmental degradation_0',\n",
       "       'environmental degradation_1', 'environmental degradation_2',\n",
       "       'infant mortality_0', 'infant mortality_1', 'infant mortality_2',\n",
       "       'catastrophe_0', 'catastrophe_1', 'catastrophe_2',\n",
       "       'wreaked havoc_0', 'wreaked havoc_1', 'wreaked havoc_2',\n",
       "       'internal strife_0', 'internal strife_1', 'internal strife_2',\n",
       "       'malnourished_0', 'malnourished_1', 'malnourished_2',\n",
       "       'secession_0', 'secession_1', 'secession_2', 'natural disaster_0',\n",
       "       'natural disaster_1', 'natural disaster_2',\n",
       "       'life-threatening hunger_0', 'life-threatening hunger_1',\n",
       "       'life-threatening hunger_2', 'air attack_0', 'air attack_1',\n",
       "       'air attack_2', 'corruption_0', 'corruption_1', 'corruption_2',\n",
       "       'call for donations_0', 'call for donations_1',\n",
       "       'call for donations_2', 'collapse of government_0',\n",
       "       'collapse of government_1', 'collapse of government_2',\n",
       "       'international intervention_0', 'international intervention_1',\n",
       "       'international intervention_2', 'refugees_0', 'refugees_1',\n",
       "       'refugees_2', 'disrupted trade_0', 'disrupted trade_1',\n",
       "       'disrupted trade_2', 'lack of agricultural infrastructure_0',\n",
       "       'lack of agricultural infrastructure_1',\n",
       "       'lack of agricultural infrastructure_2', 'rebel insurgency_0',\n",
       "       'rebel insurgency_1', 'rebel insurgency_2', 'brutal government_0',\n",
       "       'brutal government_1', 'brutal government_2', 'looting_0',\n",
       "       'looting_1', 'looting_2', 'displaced_0', 'displaced_1',\n",
       "       'displaced_2', 'food crisis_0', 'food crisis_1', 'food crisis_2',\n",
       "       'lack of rains_0', 'lack of rains_1', 'lack of rains_2',\n",
       "       'lack of alternatives_0', 'lack of alternatives_1',\n",
       "       'lack of alternatives_2', 'regimes were toppled_0',\n",
       "       'regimes were toppled_1', 'regimes were toppled_2',\n",
       "       'jihadist groups_0', 'jihadist groups_1', 'jihadist groups_2',\n",
       "       'toll on livestock_0', 'toll on livestock_1',\n",
       "       'toll on livestock_2', 'shortage of rains_0',\n",
       "       'shortage of rains_1', 'shortage of rains_2',\n",
       "       'devastated the economy_0', 'devastated the economy_1',\n",
       "       'devastated the economy_2', 'self reliance_0', 'self reliance_1',\n",
       "       'self reliance_2', 'cholera outbreak_0', 'cholera outbreak_1',\n",
       "       'cholera outbreak_2', 'international embargo_0',\n",
       "       'international embargo_1', 'international embargo_2', 'farmland_0',\n",
       "       'farmland_1', 'farmland_2', 'totalitarian_0', 'totalitarian_1',\n",
       "       'totalitarian_2', 'authoritarian_0', 'authoritarian_1',\n",
       "       'authoritarian_2', 'dictators_0', 'dictators_1', 'dictators_2',\n",
       "       'clans_0', 'clans_1', 'clans_2', 'gastrointestinal_0',\n",
       "       'gastrointestinal_1', 'gastrointestinal_2', 'terrorist_0',\n",
       "       'terrorist_1', 'terrorist_2', 'warlord_0', 'warlord_1',\n",
       "       'warlord_2', \"d'etat_0\", \"d'etat_1\", \"d'etat_2\", 'overthrow_0',\n",
       "       'overthrow_1', 'overthrow_2', 'convoys_0', 'convoys_1',\n",
       "       'convoys_2', 'carbon_0', 'carbon_1', 'carbon_2', 'mayhem_0',\n",
       "       'mayhem_1', 'mayhem_2', 'dehydrated_0', 'dehydrated_1',\n",
       "       'dehydrated_2', 'mismanagement_0', 'mismanagement_1',\n",
       "       'mismanagement_2'], dtype=object)"
      ]
     },
     "execution_count": 7,
     "metadata": {},
     "output_type": "execute_result"
    }
   ],
   "source": [
    "time_series.columns.values"
   ]
  },
  {
   "cell_type": "code",
   "execution_count": 10,
   "metadata": {
    "collapsed": true
   },
   "outputs": [],
   "source": [
    "t_variant_traditional_factors = ['ndvi_mean', 'ndvi_anom', 'rain_mean', 'rain_anom', 'et_mean', 'et_anom', \n",
    "                                    'acled_count', 'acled_fatalities', 'p_staple_food']\n",
    "t_invariant_traditional_factors = ['area', 'cropland_pct', 'pop', 'ruggedness_mean', 'pasture_pct']\n",
    "news_factors = [name[:-2] for name in time_series.columns.values if '_0' in name]"
   ]
  },
  {
   "cell_type": "code",
   "execution_count": 12,
   "metadata": {},
   "outputs": [
    {
     "data": {
      "text/plain": [
       "167"
      ]
     },
     "execution_count": 12,
     "metadata": {},
     "output_type": "execute_result"
    }
   ],
   "source": [
    "len(news_factors)"
   ]
  },
  {
   "cell_type": "code",
   "execution_count": 13,
   "metadata": {},
   "outputs": [
    {
     "data": {
      "text/plain": [
       "10"
      ]
     },
     "execution_count": 13,
     "metadata": {},
     "output_type": "execute_result"
    }
   ],
   "source": [
    "(1-3)%12"
   ]
  },
  {
   "cell_type": "code",
   "execution_count": null,
   "metadata": {
    "collapsed": true
   },
   "outputs": [],
   "source": [
    "def get_lagged(x, f, t):\n",
    "    admin_code = x['admin_code']\n",
    "    year = x['year']\n",
    "    month = x['month']\n",
    "    l_month = ((month-1-t)%12)+1\n",
    "    l_year = year\n",
    "    if month-t<=0:\n",
    "        l_year -= 1\n",
    "    ts=time_series[time_series['admin_code']==admin_code]\n",
    "    lagged_year_month = '{}_{}'.format(l_year, l_month)\n",
    "    if lagged_year_month in ts['year_month'].values:\n",
    "        ts = ts[ts['year_month']==lagged_year_month]\n",
    "        return ts[f].values[0]\n",
    "    else:\n",
    "        return x[f]\n",
    "    "
   ]
  },
  {
   "cell_type": "code",
   "execution_count": 44,
   "metadata": {},
   "outputs": [],
   "source": [
    "def add_time_lagged(features, start=3, end=9, diff=1):    \n",
    "    for f in features:\n",
    "        for t in range(start,end,diff):\n",
    "            time_series['{}_{}'.format(f,t)] = time_series.apply(lambda x: get_lagged(x, f, t), axis=1)\n",
    "    return time_series"
   ]
  },
  {
   "cell_type": "code",
   "execution_count": null,
   "metadata": {},
   "outputs": [],
   "source": [
    "add_time_lagged(t_variant_traditional_factors)"
   ]
  },
  {
   "cell_type": "code",
   "execution_count": null,
   "metadata": {
    "collapsed": true
   },
   "outputs": [],
   "source": [
    "add_time_lagged(news_factors)"
   ]
  },
  {
   "cell_type": "code",
   "execution_count": null,
   "metadata": {
    "collapsed": true
   },
   "outputs": [],
   "source": [
    "add_time_lagged(['fews_ipc'], end=21, diff=3)"
   ]
  },
  {
   "cell_type": "code",
   "execution_count": 5,
   "metadata": {},
   "outputs": [
    {
     "name": "stdout",
     "output_type": "stream",
     "text": [
      "[-2.50699856]\n"
     ]
    }
   ],
   "source": [
    "from sklearn.ensemble import RandomForestRegressor\n",
    "from sklearn.metrics import mean_squared_error\n",
    "\n",
    "test_splits = [\n",
    "    ((2010,7), (2011, 7)), \n",
    "    ((2011,7), (2012, 7)),\n",
    "    ((2012,7), (2013, 7)), \n",
    "    ((2013,7), (2014, 7)), \n",
    "    ((2014,7), (2015, 7)), \n",
    "    ((2015,7), (2016, 7)), \n",
    "    ((2016,7), (2017, 7)), \n",
    "    ((2017,7), (2018, 7)),\n",
    "    ((2018,7), (2019, 7)), \n",
    "    ((2019,2), (2020, 2)),\n",
    "]\n",
    "train_splits = [\n",
    "    ((2009,7), (2010,4)),\n",
    "    ((2009,7), (2011,1)),\n",
    "    ((2009,7), (2011,10)),\n",
    "    ((2009,7), (2012,7)),\n",
    "    ((2009,7), (2013,7)),\n",
    "    ((2009,7), (2014,1)),\n",
    "    ((2009,7), (2015,1)),\n",
    "    ((2009,7), (2015,10)),\n",
    "    ((2009,7), (2016,10)),\n",
    "    ((2009,7), (2017,2))]\n",
    "dev_splits = [\n",
    "    ((2010,4), (2010, 7)),\n",
    "    ((2011,1), (2011, 7)),\n",
    "    ((2011,10), (2012, 7)),\n",
    "    ((2012,7), (2013, 7)),\n",
    "    ((2013,4), (2014, 7)),\n",
    "    ((2014,1), (2015, 7)),\n",
    "    ((2015,1), (2016, 7)),\n",
    "    ((2015,10), (2017, 7)),\n",
    "    ((2016,10), (2018, 7)),\n",
    "    ((2017,2), (2019, 2)),\n",
    "]\n",
    "regr = RandomForestRegressor(max_features='auto', n_estimators=100, \n",
    "                             min_samples_split=0.5, min_impurity_decrease=0.001, random_state=0)\n",
    "\n",
    "features = {\n",
    "    'traditional': time_series[\n",
    "        ['{}_{}'.format('fews_ipc', t) for t in range(3,21,3)] + \n",
    "        ['{}_{}'.format(f, t) for f, t in zip(t_variant_traditional_factors, range(3,9))] + \n",
    "        t_invariant_traditional_factors\n",
    "    ], \n",
    "    'news': time_series[\n",
    "        ['{}_{}'.format('fews_ipc', t) for t in range(3,21,3)] +\n",
    "        ['{}_{}'.format(f, t) for f, t in zip(news_factors, range(3,9))]\n",
    "    ], \n",
    "    'traditional+news': time_series[\n",
    "        ['{}_{}'.format('fews_ipc', t) for t in range(3,21,3)] +\n",
    "        ['{}_{}'.format(f, t) for f, t in zip(t_variant_traditional_factors, range(3,9))] + \n",
    "        t_invariant_traditional_factors +\n",
    "        ['{}_{}'.format(f, t) for f, t in zip(news_factors, range(3,9))]\n",
    "    ], \n",
    "}\n",
    "\n",
    "labels_df = time_series['fews_ipc']\n",
    "\n",
    "def get_time_split(df, start, end):\n",
    "    return df[df['year'] >= start[0] & df['month'] >= start[1] & df['year'] <= end[0] & df['month'] <= end[1]]\n",
    "\n",
    "for train, dev, test in zip(train_splits, dev_splits, test_splits):\n",
    "    for f, D in features.items():\n",
    "        X = get_time_split(D, train[0], train[1])\n",
    "        y = get_time_split(labels_df, test[0], test[1])\n",
    "        regr.fit(X, y)\n",
    "        X_test = get_time_split(D, test[0], test[1])\n",
    "        preds = regr.predict(X_test)\n",
    "        labels = get_time_split(labels_df, test[0], test[1])\n",
    "        rmse = mean_squared_error(labels, preds, squared=True)\n",
    "        print (test, f, rmse)"
   ]
  }
 ],
 "metadata": {
  "kernelspec": {
   "display_name": "Python 2",
   "language": "python",
   "name": "python2"
  },
  "language_info": {
   "codemirror_mode": {
    "name": "ipython",
    "version": 2
   },
   "file_extension": ".py",
   "mimetype": "text/x-python",
   "name": "python",
   "nbconvert_exporter": "python",
   "pygments_lexer": "ipython2",
   "version": "2.7.16"
  }
 },
 "nbformat": 4,
 "nbformat_minor": 2
}
