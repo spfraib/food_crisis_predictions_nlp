{
 "cells": [
  {
   "cell_type": "code",
   "execution_count": 1,
   "metadata": {
    "collapsed": true
   },
   "outputs": [],
   "source": [
    "import pandas as pd\n",
    "import numpy as np"
   ]
  },
  {
   "cell_type": "code",
   "execution_count": 334,
   "metadata": {
    "collapsed": true
   },
   "outputs": [],
   "source": [
    "time_series = pd.read_csv('/home/ananth/Downloads/time_series_with_causes_zscore_full.csv')"
   ]
  },
  {
   "cell_type": "code",
   "execution_count": 335,
   "metadata": {},
   "outputs": [
    {
     "data": {
      "text/plain": [
       "array(['Unnamed: 0', 'index', 'country', 'admin_code', 'admin_name',\n",
       "       'centx', 'centy', 'year_month', 'year', 'month', 'fews_ipc',\n",
       "       'fews_ha', 'fews_proj_near', 'fews_proj_near_ha', 'fews_proj_med',\n",
       "       'fews_proj_med_ha', 'ndvi_mean', 'ndvi_anom', 'rain_mean',\n",
       "       'rain_anom', 'et_mean', 'et_anom', 'acled_count',\n",
       "       'acled_fatalities', 'p_staple_food', 'area', 'cropland_pct', 'pop',\n",
       "       'ruggedness_mean', 'pasture_pct', 'change_fews', 'land seizures_0',\n",
       "       'land seizures_1', 'land seizures_2', 'slashed export_0',\n",
       "       'slashed export_1', 'slashed export_2', 'price rise_0',\n",
       "       'price rise_1', 'price rise_2', 'mass hunger_0', 'mass hunger_1',\n",
       "       'mass hunger_2', 'cyclone_0', 'cyclone_1', 'cyclone_2',\n",
       "       'failed crops_0', 'failed crops_1', 'failed crops_2',\n",
       "       'disruption to farming_0', 'disruption to farming_1',\n",
       "       'disruption to farming_2', 'massive starvation_0',\n",
       "       'massive starvation_1', 'massive starvation_2',\n",
       "       'abnormally low rainfall_0', 'abnormally low rainfall_1',\n",
       "       'abnormally low rainfall_2', 'withheld relief_0',\n",
       "       'withheld relief_1', 'withheld relief_2', 'international alarm_0',\n",
       "       'international alarm_1', 'international alarm_2',\n",
       "       'reduced national output_0', 'reduced national output_1',\n",
       "       'reduced national output_2', 'oppressive regimes_0',\n",
       "       'oppressive regimes_1', 'oppressive regimes_2', 'pests_0',\n",
       "       'pests_1', 'pests_2', 'continued deterioration_0',\n",
       "       'continued deterioration_1', 'continued deterioration_2',\n",
       "       'forests destroyed_0', 'forests destroyed_1',\n",
       "       'forests destroyed_2', 'man-made disaster_0',\n",
       "       'man-made disaster_1', 'man-made disaster_2', 'food insecurity_0',\n",
       "       'food insecurity_1', 'food insecurity_2',\n",
       "       'harvests are devastated_0', 'harvests are devastated_1',\n",
       "       'harvests are devastated_2', 'humanitarian situation_0',\n",
       "       'humanitarian situation_1', 'humanitarian situation_2',\n",
       "       'economic impoverishment_0', 'economic impoverishment_1',\n",
       "       'economic impoverishment_2', 'clan battle_0', 'clan battle_1',\n",
       "       'clan battle_2', 'population crisis_0', 'population crisis_1',\n",
       "       'population crisis_2', 'aid appeal_0', 'aid appeal_1',\n",
       "       'aid appeal_2', 'weather extremes_0', 'weather extremes_1',\n",
       "       'weather extremes_2', 'anti-western policies_0',\n",
       "       'anti-western policies_1', 'anti-western policies_2',\n",
       "       'rinderpest_0', 'rinderpest_1', 'rinderpest_2',\n",
       "       'inadequate rainfall_0', 'inadequate rainfall_1',\n",
       "       'inadequate rainfall_2', 'lack of authority_0',\n",
       "       'lack of authority_1', 'lack of authority_2', 'acute hunger_0',\n",
       "       'acute hunger_1', 'acute hunger_2', 'foreign troops_0',\n",
       "       'foreign troops_1', 'foreign troops_2',\n",
       "       'increased external debt_0', 'increased external debt_1',\n",
       "       'increased external debt_2', 'drought_0', 'drought_1', 'drought_2',\n",
       "       'conflict_0', 'conflict_1', 'conflict_2', 'failed rains_0',\n",
       "       'failed rains_1', 'failed rains_2', 'makeshift camps_0',\n",
       "       'makeshift camps_1', 'makeshift camps_2', 'civilians uprooted_0',\n",
       "       'civilians uprooted_1', 'civilians uprooted_2', 'dysfunction_0',\n",
       "       'dysfunction_1', 'dysfunction_2', 'foreign aid_0', 'foreign aid_1',\n",
       "       'foreign aid_2', 'violent suppression_0', 'violent suppression_1',\n",
       "       'violent suppression_2', 'military dictatorship_0',\n",
       "       'military dictatorship_1', 'military dictatorship_2',\n",
       "       'climatic hazards_0', 'climatic hazards_1', 'climatic hazards_2',\n",
       "       'migration_0', 'migration_1', 'migration_2', 'land grab_0',\n",
       "       'land grab_1', 'land grab_2', 'terrorism_0', 'terrorism_1',\n",
       "       'terrorism_2', 'bombing campaign_0', 'bombing campaign_1',\n",
       "       'bombing campaign_2', 'collapsing economy_0',\n",
       "       'collapsing economy_1', 'collapsing economy_2', 'military junta_0',\n",
       "       'military junta_1', 'military junta_2', 'climate change_0',\n",
       "       'climate change_1', 'climate change_2', 'rising inflation_0',\n",
       "       'rising inflation_1', 'rising inflation_2',\n",
       "       'international terrorists_0', 'international terrorists_1',\n",
       "       'international terrorists_2', 'cycle of poverty_0',\n",
       "       'cycle of poverty_1', 'cycle of poverty_2', 'bad harvests_0',\n",
       "       'bad harvests_1', 'bad harvests_2', 'destructive pattern_0',\n",
       "       'destructive pattern_1', 'destructive pattern_2',\n",
       "       'price of food_0', 'price of food_1', 'price of food_2',\n",
       "       'corrupt government_0', 'corrupt government_1',\n",
       "       'corrupt government_2', 'militia groups_0', 'militia groups_1',\n",
       "       'militia groups_2', 'poor soil quality_0', 'poor soil quality_1',\n",
       "       'poor soil quality_2', 'cattle plague_0', 'cattle plague_1',\n",
       "       'cattle plague_2', 'food assistance_0', 'food assistance_1',\n",
       "       'food assistance_2', 'continued strife_0', 'continued strife_1',\n",
       "       'continued strife_2', 'ecological crisis_0', 'ecological crisis_1',\n",
       "       'ecological crisis_2', 'hunger crises_0', 'hunger crises_1',\n",
       "       'hunger crises_2', 'rising food prices_0', 'rising food prices_1',\n",
       "       'rising food prices_2', 'restricted humanitarian access_0',\n",
       "       'restricted humanitarian access_1',\n",
       "       'restricted humanitarian access_2', 'water availability_0',\n",
       "       'water availability_1', 'water availability_2', 'alarming level_0',\n",
       "       'alarming level_1', 'alarming level_2', 'police torture_0',\n",
       "       'police torture_1', 'police torture_2', 'potato blight_0',\n",
       "       'potato blight_1', 'potato blight_2', 'the offensive_0',\n",
       "       'the offensive_1', 'the offensive_2', 'land invasions_0',\n",
       "       'land invasions_1', 'land invasions_2', 'clan warfare_0',\n",
       "       'clan warfare_1', 'clan warfare_2', 'stolen food aid_0',\n",
       "       'stolen food aid_1', 'stolen food aid_2',\n",
       "       'politically engineered_0', 'politically engineered_1',\n",
       "       'politically engineered_2', 'scanty rainfall_0',\n",
       "       'scanty rainfall_1', 'scanty rainfall_2',\n",
       "       'water distribution shortages_0', 'water distribution shortages_1',\n",
       "       'water distribution shortages_2', 'cattle death_0',\n",
       "       'cattle death_1', 'cattle death_2', 'asylum seekers_0',\n",
       "       'asylum seekers_1', 'asylum seekers_2', 'major offensive_0',\n",
       "       'major offensive_1', 'major offensive_2',\n",
       "       'without international aid_0', 'without international aid_1',\n",
       "       'without international aid_2', 'prolonged dry spell_0',\n",
       "       'prolonged dry spell_1', 'prolonged dry spell_2', 'rise_0',\n",
       "       'rise_1', 'rise_2', 'restricted relief flights_0',\n",
       "       'restricted relief flights_1', 'restricted relief flights_2',\n",
       "       'civil strife_0', 'civil strife_1', 'civil strife_2',\n",
       "       'aid workers died_0', 'aid workers died_1', 'aid workers died_2',\n",
       "       'rival warlords_0', 'rival warlords_1', 'rival warlords_2',\n",
       "       'land reform_0', 'land reform_1', 'land reform_2',\n",
       "       'lack of roads_0', 'lack of roads_1', 'lack of roads_2',\n",
       "       'pushing peasants off_0', 'pushing peasants off_1',\n",
       "       'pushing peasants off_2', 'locusts_0', 'locusts_1', 'locusts_2',\n",
       "       'gangs of bandits_0', 'gangs of bandits_1', 'gangs of bandits_2',\n",
       "       'repression_0', 'repression_1', 'repression_2',\n",
       "       'humanitarian disaster_0', 'humanitarian disaster_1',\n",
       "       'humanitarian disaster_2', 'years of warfare_0',\n",
       "       'years of warfare_1', 'years of warfare_2', 'floods_0', 'floods_1',\n",
       "       'floods_2', 'unable to sow_0', 'unable to sow_1',\n",
       "       'unable to sow_2', 'transport bottleneck_0',\n",
       "       'transport bottleneck_1', 'transport bottleneck_2', 'pirates_0',\n",
       "       'pirates_1', 'pirates_2', 'reduced imports_0', 'reduced imports_1',\n",
       "       'reduced imports_2', 'apathy_0', 'apathy_1', 'apathy_2', 'coup_0',\n",
       "       'coup_1', 'coup_2', 'epidemics_0', 'epidemics_1', 'epidemics_2',\n",
       "       'siege_0', 'siege_1', 'siege_2', 'power struggle_0',\n",
       "       'power struggle_1', 'power struggle_2', 'livestock had died_0',\n",
       "       'livestock had died_1', 'livestock had died_2', 'blockade_0',\n",
       "       'blockade_1', 'blockade_2', 'burning houses_0', 'burning houses_1',\n",
       "       'burning houses_2', 'brain drain_0', 'brain drain_1',\n",
       "       'brain drain_2', 'severe rains_0', 'severe rains_1',\n",
       "       'severe rains_2', 'infrastructure damage_0',\n",
       "       'infrastructure damage_1', 'infrastructure damage_2',\n",
       "       'land degradation_0', 'land degradation_1', 'land degradation_2',\n",
       "       'human rights abuses_0', 'human rights abuses_1',\n",
       "       'human rights abuses_2', 'lack of cultivation_0',\n",
       "       'lack of cultivation_1', 'lack of cultivation_2',\n",
       "       'harvest decline_0', 'harvest decline_1', 'harvest decline_2',\n",
       "       'flee_0', 'flee_1', 'flee_2', 'economic crisis_0',\n",
       "       'economic crisis_1', 'economic crisis_2', 'greenhouse gases_0',\n",
       "       'greenhouse gases_1', 'greenhouse gases_2', 'prolonged fighting_0',\n",
       "       'prolonged fighting_1', 'prolonged fighting_2', 'tragedy_0',\n",
       "       'tragedy_1', 'tragedy_2', 'slave trade_0', 'slave trade_1',\n",
       "       'slave trade_2', 'environmental degradation_0',\n",
       "       'environmental degradation_1', 'environmental degradation_2',\n",
       "       'infant mortality_0', 'infant mortality_1', 'infant mortality_2',\n",
       "       'catastrophe_0', 'catastrophe_1', 'catastrophe_2',\n",
       "       'wreaked havoc_0', 'wreaked havoc_1', 'wreaked havoc_2',\n",
       "       'internal strife_0', 'internal strife_1', 'internal strife_2',\n",
       "       'malnourished_0', 'malnourished_1', 'malnourished_2',\n",
       "       'secession_0', 'secession_1', 'secession_2', 'natural disaster_0',\n",
       "       'natural disaster_1', 'natural disaster_2',\n",
       "       'life-threatening hunger_0', 'life-threatening hunger_1',\n",
       "       'life-threatening hunger_2', 'air attack_0', 'air attack_1',\n",
       "       'air attack_2', 'corruption_0', 'corruption_1', 'corruption_2',\n",
       "       'call for donations_0', 'call for donations_1',\n",
       "       'call for donations_2', 'collapse of government_0',\n",
       "       'collapse of government_1', 'collapse of government_2',\n",
       "       'international intervention_0', 'international intervention_1',\n",
       "       'international intervention_2', 'refugees_0', 'refugees_1',\n",
       "       'refugees_2', 'disrupted trade_0', 'disrupted trade_1',\n",
       "       'disrupted trade_2', 'lack of agricultural infrastructure_0',\n",
       "       'lack of agricultural infrastructure_1',\n",
       "       'lack of agricultural infrastructure_2', 'rebel insurgency_0',\n",
       "       'rebel insurgency_1', 'rebel insurgency_2', 'brutal government_0',\n",
       "       'brutal government_1', 'brutal government_2', 'looting_0',\n",
       "       'looting_1', 'looting_2', 'displaced_0', 'displaced_1',\n",
       "       'displaced_2', 'food crisis_0', 'food crisis_1', 'food crisis_2',\n",
       "       'lack of rains_0', 'lack of rains_1', 'lack of rains_2',\n",
       "       'lack of alternatives_0', 'lack of alternatives_1',\n",
       "       'lack of alternatives_2', 'regimes were toppled_0',\n",
       "       'regimes were toppled_1', 'regimes were toppled_2',\n",
       "       'jihadist groups_0', 'jihadist groups_1', 'jihadist groups_2',\n",
       "       'toll on livestock_0', 'toll on livestock_1',\n",
       "       'toll on livestock_2', 'shortage of rains_0',\n",
       "       'shortage of rains_1', 'shortage of rains_2',\n",
       "       'devastated the economy_0', 'devastated the economy_1',\n",
       "       'devastated the economy_2', 'self reliance_0', 'self reliance_1',\n",
       "       'self reliance_2', 'cholera outbreak_0', 'cholera outbreak_1',\n",
       "       'cholera outbreak_2', 'international embargo_0',\n",
       "       'international embargo_1', 'international embargo_2', 'farmland_0',\n",
       "       'farmland_1', 'farmland_2', 'totalitarian_0', 'totalitarian_1',\n",
       "       'totalitarian_2', 'authoritarian_0', 'authoritarian_1',\n",
       "       'authoritarian_2', 'dictators_0', 'dictators_1', 'dictators_2',\n",
       "       'clans_0', 'clans_1', 'clans_2', 'gastrointestinal_0',\n",
       "       'gastrointestinal_1', 'gastrointestinal_2', 'terrorist_0',\n",
       "       'terrorist_1', 'terrorist_2', 'warlord_0', 'warlord_1',\n",
       "       'warlord_2', \"d'etat_0\", \"d'etat_1\", \"d'etat_2\", 'overthrow_0',\n",
       "       'overthrow_1', 'overthrow_2', 'convoys_0', 'convoys_1',\n",
       "       'convoys_2', 'carbon_0', 'carbon_1', 'carbon_2', 'mayhem_0',\n",
       "       'mayhem_1', 'mayhem_2', 'dehydrated_0', 'dehydrated_1',\n",
       "       'dehydrated_2', 'mismanagement_0', 'mismanagement_1',\n",
       "       'mismanagement_2'], dtype=object)"
      ]
     },
     "execution_count": 335,
     "metadata": {},
     "output_type": "execute_result"
    }
   ],
   "source": [
    "time_series.columns.values"
   ]
  },
  {
   "cell_type": "code",
   "execution_count": 336,
   "metadata": {
    "collapsed": true
   },
   "outputs": [],
   "source": [
    "t_variant_traditional_factors = ['ndvi_mean', 'ndvi_anom', 'rain_mean', 'rain_anom', 'et_mean', 'et_anom', \n",
    "                                    'acled_count', 'acled_fatalities', 'p_staple_food']\n",
    "t_invariant_traditional_factors = ['area', 'cropland_pct', 'pop', 'ruggedness_mean', 'pasture_pct']\n",
    "news_factors = [name for name in time_series.columns.values if '_0' in name]"
   ]
  },
  {
   "cell_type": "code",
   "execution_count": 348,
   "metadata": {},
   "outputs": [
    {
     "data": {
      "text/plain": [
       "'land seizures_0'"
      ]
     },
     "execution_count": 348,
     "metadata": {},
     "output_type": "execute_result"
    }
   ],
   "source": [
    "news_factors[0]"
   ]
  },
  {
   "cell_type": "code",
   "execution_count": 6,
   "metadata": {
    "collapsed": true
   },
   "outputs": [],
   "source": [
    "def get_lagged(x, f, t):\n",
    "    admin_code = x['admin_code']\n",
    "    year = x['year']\n",
    "    month = x['month']\n",
    "    l_month = ((month-1-t)%12)+1\n",
    "    l_year = year\n",
    "    if month-t<=0:\n",
    "        l_year -= 1\n",
    "    ts=time_series[time_series['admin_code']==admin_code]\n",
    "    lagged_year_month = '{}_{}'.format(l_year, l_month)\n",
    "    if lagged_year_month in ts['year_month'].values:\n",
    "        ts = ts[ts['year_month']==lagged_year_month]\n",
    "        return ts[f].values[0]\n",
    "    else:\n",
    "        return x[f]\n",
    "    "
   ]
  },
  {
   "cell_type": "code",
   "execution_count": 355,
   "metadata": {
    "collapsed": true
   },
   "outputs": [],
   "source": [
    "def add_time_lagged(features, start=3, end=9, diff=1, agg=True):\n",
    "    if agg:\n",
    "        levels = ['', '_province', '_country']\n",
    "    else:\n",
    "        levels = ['']\n",
    "    for suffix in levels:\n",
    "        for f in features:\n",
    "            f_s = f+suffix\n",
    "            for t in range(start,end,diff):\n",
    "                if '{}_{}'.format(f_s,t) in time_series:\n",
    "                    continue\n",
    "                time_series['{}_{}'.format(f_s,t)] = time_series.apply(lambda x: get_lagged(x, f_s, t), axis=1)"
   ]
  },
  {
   "cell_type": "code",
   "execution_count": 12,
   "metadata": {},
   "outputs": [],
   "source": [
    "admins = pd.read_csv('./famine-country-province-district-years-CS.csv')"
   ]
  },
  {
   "cell_type": "code",
   "execution_count": 15,
   "metadata": {},
   "outputs": [
    {
     "data": {
      "text/plain": [
       "39"
      ]
     },
     "execution_count": 15,
     "metadata": {},
     "output_type": "execute_result"
    }
   ],
   "source": [
    "len(admins.country.unique())"
   ]
  },
  {
   "cell_type": "code",
   "execution_count": 19,
   "metadata": {},
   "outputs": [],
   "source": [
    "admin_names = time_series['admin_name'].unique()\n",
    "districts = admins['district'].unique()\n",
    "provinces = admins['province'].unique()\n",
    "countries = admins['country'].unique()"
   ]
  },
  {
   "cell_type": "code",
   "execution_count": 28,
   "metadata": {
    "collapsed": true
   },
   "outputs": [
    {
     "name": "stdout",
     "output_type": "stream",
     "text": [
      "(1142, 4113, 474, 39)\n",
      "369\n",
      "230\n"
     ]
    },
    {
     "data": {
      "text/plain": [
       "{'Abu Hamad',\n",
       " 'Abu Jubaiyah',\n",
       " 'Acul Du Nord',\n",
       " \"Ad Dali'\",\n",
       " 'Ad Damazin',\n",
       " 'Ad Damer',\n",
       " 'Ad Dinder',\n",
       " 'Ad Douiem',\n",
       " 'Adan',\n",
       " 'Adan Yabaal',\n",
       " 'Addabah',\n",
       " 'Addis Adaba',\n",
       " 'Agnuak',\n",
       " 'Agui\\xc3\\xa9',\n",
       " 'Al Deain',\n",
       " 'Al Fasher',\n",
       " 'Al Faw',\n",
       " 'Al Fushqa',\n",
       " 'Al Gadaref',\n",
       " 'Al Galabat',\n",
       " 'Al Gash',\n",
       " 'Al Geneina',\n",
       " 'Al Gutaina',\n",
       " 'Al Jabalian',\n",
       " 'Al Kamlin',\n",
       " 'Al Kurumik',\n",
       " \"Al Ma'afir\",\n",
       " 'Al Mahagil',\n",
       " \"Al Marawi'ah\",\n",
       " 'Al Rahd',\n",
       " 'Al Roseires',\n",
       " \"Al Wazi'iyah\",\n",
       " \"Amanat Al 'Asimah\",\n",
       " 'Amran',\n",
       " 'Anse-A-Veau',\n",
       " \"Anse-D'Ainault\",\n",
       " 'As Salam',\n",
       " \"At Ta'izziyah\",\n",
       " 'Awi/Agew',\n",
       " 'Bale.1',\n",
       " 'Balleyara',\n",
       " 'Banadir',\n",
       " 'Bandarbeyla',\n",
       " 'Bankilar\\xc3\\xa9',\n",
       " 'Barh El Gazel Nord',\n",
       " 'Barh El Gazel Ouest',\n",
       " 'Barh El Gazel Sud',\n",
       " 'Barh-K\\xc3\\xb4h',\n",
       " 'Baw',\n",
       " 'Baydhaba',\n",
       " 'Beitbridge',\n",
       " 'Belbedji',\n",
       " 'Belet Weyne',\n",
       " 'Belet Xaawo',\n",
       " 'Beni',\n",
       " 'Berber',\n",
       " 'Bindura',\n",
       " 'Bossaso',\n",
       " 'Bukavu',\n",
       " 'Bulilima (North)',\n",
       " 'Bulo Burto',\n",
       " \"Bura'\",\n",
       " 'Buret',\n",
       " 'Burtinle',\n",
       " 'Busia.1',\n",
       " 'Butembo',\n",
       " 'Butere Mumias',\n",
       " 'Cayes',\n",
       " 'Caynabo',\n",
       " 'Ceca La Source',\n",
       " 'Central Kisii',\n",
       " 'Chegutu',\n",
       " 'Chiengi',\n",
       " 'Chipinge',\n",
       " 'Chiredzi',\n",
       " 'Croix-Des-Bouquets',\n",
       " 'Damagaram Takaya',\n",
       " 'Djourouf Al Ahmar',\n",
       " 'Doolo',\n",
       " 'East Harerge',\n",
       " 'East al Gazera',\n",
       " 'Eastern Tigray',\n",
       " 'En Nuhud',\n",
       " 'Filingu\\xc3\\xa9',\n",
       " 'Galdogob',\n",
       " 'Gebiley',\n",
       " 'Gedio',\n",
       " 'Ghebeish',\n",
       " 'Gokwe South',\n",
       " 'Goma',\n",
       " 'Gonave',\n",
       " 'Goth\\xc3\\xa8ye',\n",
       " 'Gourma-Rharous',\n",
       " 'Gour\\xc3\\xa9',\n",
       " 'Grande Riviere Du Nord',\n",
       " 'Gucha',\n",
       " 'Guji',\n",
       " 'Gwanda',\n",
       " 'Gweru',\n",
       " 'Hamashkorieb',\n",
       " 'Hareri',\n",
       " 'Hirat',\n",
       " 'Hwange',\n",
       " 'Id El Ghanem',\n",
       " 'Ill\\xc3\\xa9la',\n",
       " 'Iriba',\n",
       " 'Jebrat al Sheikh',\n",
       " 'KT',\n",
       " 'Kabia',\n",
       " 'Kabkabiya',\n",
       " 'Kadoma',\n",
       " 'Kajo-keji',\n",
       " 'Kananga',\n",
       " 'Kantch\\xc3\\xa9',\n",
       " 'Karary',\n",
       " 'Kas',\n",
       " 'Kasai.1',\n",
       " 'Keiyo',\n",
       " 'Kelem Wellega',\n",
       " 'Khartoum Bahri',\n",
       " 'Kibale',\n",
       " 'Kindu',\n",
       " 'Kisangani',\n",
       " 'Koibatek',\n",
       " 'Kolwezi',\n",
       " 'Kolwezi.1',\n",
       " 'Komonjdjari',\n",
       " 'Kuria',\n",
       " 'Kwekwe',\n",
       " 'La Nya Pend\\xc3\\xa9',\n",
       " 'La Pend\\xc3\\xa9',\n",
       " 'Laasqoray',\n",
       " 'Lac-L\\xc3\\xa9r\\xc3\\xa9',\n",
       " 'Lafon',\n",
       " 'Likasi',\n",
       " 'Lubumbashi',\n",
       " 'Lughaye',\n",
       " 'Lulua',\n",
       " 'MPongwe',\n",
       " 'Majang',\n",
       " 'Mangalm\\xc3\\xa9',\n",
       " 'Mangwe (South)',\n",
       " 'Maragua',\n",
       " 'Marakwet',\n",
       " \"Mashra'ah wa Hadnan\",\n",
       " \"Mawza'\",\n",
       " 'Mayo Binder',\n",
       " 'Mayo Boneye',\n",
       " 'Mayo-Lemi',\n",
       " 'Ma\\xc3\\xafn\\xc3\\xa9 Soroa',\n",
       " 'Mbeere',\n",
       " 'Mbuji-Mayi',\n",
       " 'Merawi',\n",
       " 'Meru Central',\n",
       " 'Meru North',\n",
       " 'Meru South',\n",
       " 'Mole Saint Nicolas',\n",
       " 'Mt Elgon',\n",
       " 'Muranga',\n",
       " 'Mutare',\n",
       " 'Mwene-Ditu',\n",
       " 'Mwingi',\n",
       " 'Nahr Atbara',\n",
       " 'Nandi North',\n",
       " 'Nandi South',\n",
       " 'Ndjamena',\n",
       " 'Nord-Kivu',\n",
       " 'North Gonder',\n",
       " 'North Shewa(R3)',\n",
       " 'North Shewa(R4)',\n",
       " 'North Western Tigray',\n",
       " 'North al Gazera',\n",
       " 'Nyala.1',\n",
       " 'Owdweyne',\n",
       " 'Port De Paix',\n",
       " 'Port-Au-Prince',\n",
       " 'Port-Salut',\n",
       " 'Rab Dhuure',\n",
       " 'Rachuonyo',\n",
       " \"Sa'dah\",\n",
       " 'Saint Louis Du Nord',\n",
       " 'Saint-Raphael',\n",
       " \"Sami'\",\n",
       " 'Sar-e-Pul',\n",
       " \"Segen Peoples'\",\n",
       " 'Selti',\n",
       " 'Seteet',\n",
       " 'Shabelle',\n",
       " \"Shar'ab Ar Rawnah\",\n",
       " \"Shar'ab As Salam\",\n",
       " 'Sharg En Nile',\n",
       " 'Sharq al Gazera',\n",
       " 'Sheikan',\n",
       " 'Sheikh',\n",
       " 'Shurugwi',\n",
       " 'Siti',\n",
       " 'South Gonder',\n",
       " 'South Khartoum',\n",
       " 'South al Gazera',\n",
       " 'Southern Tigray',\n",
       " 'Sowdari',\n",
       " 'Special Woreda',\n",
       " 'Sud-Kivu',\n",
       " 'Taleex',\n",
       " 'Tanganyka',\n",
       " 'Tayeeglow',\n",
       " 'Tesker',\n",
       " 'Teso',\n",
       " 'Thika',\n",
       " 'Tillab\\xc3\\xa9ri',\n",
       " 'Trans Mara',\n",
       " 'Trou Du Nord',\n",
       " 'Tulus',\n",
       " 'T\\xc3\\xa9ra',\n",
       " 'UMP',\n",
       " 'Um Al Gura',\n",
       " 'Um Badda',\n",
       " 'Um Kadada',\n",
       " 'Valliere',\n",
       " 'Ville de Maradi',\n",
       " 'Ville de Niamey',\n",
       " 'Ville de Tahoua',\n",
       " 'Ville de Zinder',\n",
       " 'Wadi Halfa',\n",
       " 'Wardi Hawar',\n",
       " 'Wedza',\n",
       " 'West Harerge',\n",
       " 'Western Tigray',\n",
       " 'Zallingi',\n",
       " 'Zvishavane'}"
      ]
     },
     "execution_count": 28,
     "metadata": {},
     "output_type": "execute_result"
    }
   ],
   "source": [
    "print (len(admin_names), len(districts), len(provinces), len(countries))\n",
    "print (len(set(admin_names).difference(districts)))\n",
    "missing_admin_names = set(admin_names).difference(districts)\n",
    "print (len(missing_admin_names.difference(provinces)))\n",
    "missing_admin_names = missing_admin_names.difference(provinces)"
   ]
  },
  {
   "cell_type": "code",
   "execution_count": 200,
   "metadata": {
    "collapsed": true
   },
   "outputs": [
    {
     "ename": "KeyboardInterrupt",
     "evalue": "",
     "output_type": "error",
     "traceback": [
      "\u001b[0;31m---------------------------------------------------------------------------\u001b[0m",
      "\u001b[0;31mKeyboardInterrupt\u001b[0m                         Traceback (most recent call last)",
      "\u001b[0;32m<ipython-input-200-2e86516c6038>\u001b[0m in \u001b[0;36m<module>\u001b[0;34m()\u001b[0m\n\u001b[1;32m     16\u001b[0m \u001b[0;34m\u001b[0m\u001b[0m\n\u001b[1;32m     17\u001b[0m \u001b[0;34m\u001b[0m\u001b[0m\n\u001b[0;32m---> 18\u001b[0;31m \u001b[0mmatching\u001b[0m \u001b[0;34m=\u001b[0m \u001b[0mfind_matching\u001b[0m\u001b[0;34m(\u001b[0m\u001b[0mmissing_admin_names\u001b[0m\u001b[0;34m,\u001b[0m \u001b[0mdistricts\u001b[0m\u001b[0;34m)\u001b[0m\u001b[0;34m\u001b[0m\u001b[0m\n\u001b[0m\u001b[1;32m     19\u001b[0m \u001b[0mmatching_p\u001b[0m \u001b[0;34m=\u001b[0m \u001b[0mfind_matching\u001b[0m\u001b[0;34m(\u001b[0m\u001b[0mmissing_admin_names\u001b[0m\u001b[0;34m,\u001b[0m \u001b[0mprovinces\u001b[0m\u001b[0;34m)\u001b[0m\u001b[0;34m\u001b[0m\u001b[0m\n\u001b[1;32m     20\u001b[0m \u001b[0;31m#manually verify matching and update\u001b[0m\u001b[0;34m\u001b[0m\u001b[0;34m\u001b[0m\u001b[0m\n",
      "\u001b[0;32m<ipython-input-200-2e86516c6038>\u001b[0m in \u001b[0;36mfind_matching\u001b[0;34m(missing, names)\u001b[0m\n\u001b[1;32m      8\u001b[0m         \u001b[0;32mfor\u001b[0m \u001b[0md\u001b[0m \u001b[0;32min\u001b[0m \u001b[0mnames\u001b[0m\u001b[0;34m:\u001b[0m\u001b[0;34m\u001b[0m\u001b[0m\n\u001b[1;32m      9\u001b[0m             \u001b[0md\u001b[0m \u001b[0;34m=\u001b[0m \u001b[0mstr\u001b[0m\u001b[0;34m(\u001b[0m\u001b[0md\u001b[0m\u001b[0;34m)\u001b[0m\u001b[0;34m\u001b[0m\u001b[0m\n\u001b[0;32m---> 10\u001b[0;31m             \u001b[0mdist\u001b[0m \u001b[0;34m=\u001b[0m \u001b[0mfuzz\u001b[0m\u001b[0;34m.\u001b[0m\u001b[0mpartial_ratio\u001b[0m\u001b[0;34m(\u001b[0m\u001b[0mm\u001b[0m\u001b[0;34m,\u001b[0m \u001b[0md\u001b[0m\u001b[0;34m)\u001b[0m\u001b[0;34m\u001b[0m\u001b[0m\n\u001b[0m\u001b[1;32m     11\u001b[0m             \u001b[0;32mif\u001b[0m \u001b[0mdist\u001b[0m \u001b[0;34m>\u001b[0m \u001b[0mmax_overlap\u001b[0m\u001b[0;34m:\u001b[0m\u001b[0;34m\u001b[0m\u001b[0m\n\u001b[1;32m     12\u001b[0m                 \u001b[0mmax_overlap\u001b[0m \u001b[0;34m=\u001b[0m \u001b[0mdist\u001b[0m\u001b[0;34m\u001b[0m\u001b[0m\n",
      "\u001b[0;32m/home/ananth/anaconda2/lib/python2.7/site-packages/fuzzywuzzy/utils.pyc\u001b[0m in \u001b[0;36mdecorator\u001b[0;34m(*args, **kwargs)\u001b[0m\n\u001b[1;32m     36\u001b[0m         \u001b[0;32mif\u001b[0m \u001b[0margs\u001b[0m\u001b[0;34m[\u001b[0m\u001b[0;36m0\u001b[0m\u001b[0;34m]\u001b[0m \u001b[0;32mis\u001b[0m \u001b[0mNone\u001b[0m \u001b[0;32mor\u001b[0m \u001b[0margs\u001b[0m\u001b[0;34m[\u001b[0m\u001b[0;36m1\u001b[0m\u001b[0;34m]\u001b[0m \u001b[0;32mis\u001b[0m \u001b[0mNone\u001b[0m\u001b[0;34m:\u001b[0m\u001b[0;34m\u001b[0m\u001b[0m\n\u001b[1;32m     37\u001b[0m             \u001b[0;32mreturn\u001b[0m \u001b[0;36m0\u001b[0m\u001b[0;34m\u001b[0m\u001b[0m\n\u001b[0;32m---> 38\u001b[0;31m         \u001b[0;32mreturn\u001b[0m \u001b[0mfunc\u001b[0m\u001b[0;34m(\u001b[0m\u001b[0;34m*\u001b[0m\u001b[0margs\u001b[0m\u001b[0;34m,\u001b[0m \u001b[0;34m**\u001b[0m\u001b[0mkwargs\u001b[0m\u001b[0;34m)\u001b[0m\u001b[0;34m\u001b[0m\u001b[0m\n\u001b[0m\u001b[1;32m     39\u001b[0m     \u001b[0;32mreturn\u001b[0m \u001b[0mdecorator\u001b[0m\u001b[0;34m\u001b[0m\u001b[0m\n\u001b[1;32m     40\u001b[0m \u001b[0;34m\u001b[0m\u001b[0m\n",
      "\u001b[0;32m/home/ananth/anaconda2/lib/python2.7/site-packages/fuzzywuzzy/utils.pyc\u001b[0m in \u001b[0;36mdecorator\u001b[0;34m(*args, **kwargs)\u001b[0m\n\u001b[1;32m     27\u001b[0m         \u001b[0;32mif\u001b[0m \u001b[0margs\u001b[0m\u001b[0;34m[\u001b[0m\u001b[0;36m0\u001b[0m\u001b[0;34m]\u001b[0m \u001b[0;34m==\u001b[0m \u001b[0margs\u001b[0m\u001b[0;34m[\u001b[0m\u001b[0;36m1\u001b[0m\u001b[0;34m]\u001b[0m\u001b[0;34m:\u001b[0m\u001b[0;34m\u001b[0m\u001b[0m\n\u001b[1;32m     28\u001b[0m             \u001b[0;32mreturn\u001b[0m \u001b[0;36m100\u001b[0m\u001b[0;34m\u001b[0m\u001b[0m\n\u001b[0;32m---> 29\u001b[0;31m         \u001b[0;32mreturn\u001b[0m \u001b[0mfunc\u001b[0m\u001b[0;34m(\u001b[0m\u001b[0;34m*\u001b[0m\u001b[0margs\u001b[0m\u001b[0;34m,\u001b[0m \u001b[0;34m**\u001b[0m\u001b[0mkwargs\u001b[0m\u001b[0;34m)\u001b[0m\u001b[0;34m\u001b[0m\u001b[0m\n\u001b[0m\u001b[1;32m     30\u001b[0m     \u001b[0;32mreturn\u001b[0m \u001b[0mdecorator\u001b[0m\u001b[0;34m\u001b[0m\u001b[0m\n\u001b[1;32m     31\u001b[0m \u001b[0;34m\u001b[0m\u001b[0m\n",
      "\u001b[0;32m/home/ananth/anaconda2/lib/python2.7/site-packages/fuzzywuzzy/utils.pyc\u001b[0m in \u001b[0;36mdecorator\u001b[0;34m(*args, **kwargs)\u001b[0m\n\u001b[1;32m     45\u001b[0m         \u001b[0;32mif\u001b[0m \u001b[0mlen\u001b[0m\u001b[0;34m(\u001b[0m\u001b[0margs\u001b[0m\u001b[0;34m[\u001b[0m\u001b[0;36m0\u001b[0m\u001b[0;34m]\u001b[0m\u001b[0;34m)\u001b[0m \u001b[0;34m==\u001b[0m \u001b[0;36m0\u001b[0m \u001b[0;32mor\u001b[0m \u001b[0mlen\u001b[0m\u001b[0;34m(\u001b[0m\u001b[0margs\u001b[0m\u001b[0;34m[\u001b[0m\u001b[0;36m1\u001b[0m\u001b[0;34m]\u001b[0m\u001b[0;34m)\u001b[0m \u001b[0;34m==\u001b[0m \u001b[0;36m0\u001b[0m\u001b[0;34m:\u001b[0m\u001b[0;34m\u001b[0m\u001b[0m\n\u001b[1;32m     46\u001b[0m             \u001b[0;32mreturn\u001b[0m \u001b[0;36m0\u001b[0m\u001b[0;34m\u001b[0m\u001b[0m\n\u001b[0;32m---> 47\u001b[0;31m         \u001b[0;32mreturn\u001b[0m \u001b[0mfunc\u001b[0m\u001b[0;34m(\u001b[0m\u001b[0;34m*\u001b[0m\u001b[0margs\u001b[0m\u001b[0;34m,\u001b[0m \u001b[0;34m**\u001b[0m\u001b[0mkwargs\u001b[0m\u001b[0;34m)\u001b[0m\u001b[0;34m\u001b[0m\u001b[0m\n\u001b[0m\u001b[1;32m     48\u001b[0m     \u001b[0;32mreturn\u001b[0m \u001b[0mdecorator\u001b[0m\u001b[0;34m\u001b[0m\u001b[0m\n\u001b[1;32m     49\u001b[0m \u001b[0;34m\u001b[0m\u001b[0m\n",
      "\u001b[0;32m/home/ananth/anaconda2/lib/python2.7/site-packages/fuzzywuzzy/fuzz.pyc\u001b[0m in \u001b[0;36mpartial_ratio\u001b[0;34m(s1, s2)\u001b[0m\n\u001b[1;32m     45\u001b[0m \u001b[0;34m\u001b[0m\u001b[0m\n\u001b[1;32m     46\u001b[0m     \u001b[0mm\u001b[0m \u001b[0;34m=\u001b[0m \u001b[0mSequenceMatcher\u001b[0m\u001b[0;34m(\u001b[0m\u001b[0mNone\u001b[0m\u001b[0;34m,\u001b[0m \u001b[0mshorter\u001b[0m\u001b[0;34m,\u001b[0m \u001b[0mlonger\u001b[0m\u001b[0;34m)\u001b[0m\u001b[0;34m\u001b[0m\u001b[0m\n\u001b[0;32m---> 47\u001b[0;31m     \u001b[0mblocks\u001b[0m \u001b[0;34m=\u001b[0m \u001b[0mm\u001b[0m\u001b[0;34m.\u001b[0m\u001b[0mget_matching_blocks\u001b[0m\u001b[0;34m(\u001b[0m\u001b[0;34m)\u001b[0m\u001b[0;34m\u001b[0m\u001b[0m\n\u001b[0m\u001b[1;32m     48\u001b[0m \u001b[0;34m\u001b[0m\u001b[0m\n\u001b[1;32m     49\u001b[0m     \u001b[0;31m# each block represents a sequence of matching characters in a string\u001b[0m\u001b[0;34m\u001b[0m\u001b[0;34m\u001b[0m\u001b[0m\n",
      "\u001b[0;32m/home/ananth/anaconda2/lib/python2.7/difflib.pyc\u001b[0m in \u001b[0;36mget_matching_blocks\u001b[0;34m(self)\u001b[0m\n\u001b[1;32m    489\u001b[0m         \u001b[0;32mwhile\u001b[0m \u001b[0mqueue\u001b[0m\u001b[0;34m:\u001b[0m\u001b[0;34m\u001b[0m\u001b[0m\n\u001b[1;32m    490\u001b[0m             \u001b[0malo\u001b[0m\u001b[0;34m,\u001b[0m \u001b[0mahi\u001b[0m\u001b[0;34m,\u001b[0m \u001b[0mblo\u001b[0m\u001b[0;34m,\u001b[0m \u001b[0mbhi\u001b[0m \u001b[0;34m=\u001b[0m \u001b[0mqueue\u001b[0m\u001b[0;34m.\u001b[0m\u001b[0mpop\u001b[0m\u001b[0;34m(\u001b[0m\u001b[0;34m)\u001b[0m\u001b[0;34m\u001b[0m\u001b[0m\n\u001b[0;32m--> 491\u001b[0;31m             \u001b[0mi\u001b[0m\u001b[0;34m,\u001b[0m \u001b[0mj\u001b[0m\u001b[0;34m,\u001b[0m \u001b[0mk\u001b[0m \u001b[0;34m=\u001b[0m \u001b[0mx\u001b[0m \u001b[0;34m=\u001b[0m \u001b[0mself\u001b[0m\u001b[0;34m.\u001b[0m\u001b[0mfind_longest_match\u001b[0m\u001b[0;34m(\u001b[0m\u001b[0malo\u001b[0m\u001b[0;34m,\u001b[0m \u001b[0mahi\u001b[0m\u001b[0;34m,\u001b[0m \u001b[0mblo\u001b[0m\u001b[0;34m,\u001b[0m \u001b[0mbhi\u001b[0m\u001b[0;34m)\u001b[0m\u001b[0;34m\u001b[0m\u001b[0m\n\u001b[0m\u001b[1;32m    492\u001b[0m             \u001b[0;31m# a[alo:i] vs b[blo:j] unknown\u001b[0m\u001b[0;34m\u001b[0m\u001b[0;34m\u001b[0m\u001b[0m\n\u001b[1;32m    493\u001b[0m             \u001b[0;31m# a[i:i+k] same as b[j:j+k]\u001b[0m\u001b[0;34m\u001b[0m\u001b[0;34m\u001b[0m\u001b[0m\n",
      "\u001b[0;32m/home/ananth/anaconda2/lib/python2.7/difflib.pyc\u001b[0m in \u001b[0;36mfind_longest_match\u001b[0;34m(self, alo, ahi, blo, bhi)\u001b[0m\n\u001b[1;32m    431\u001b[0m         \u001b[0;32mwhile\u001b[0m \u001b[0mbesti\u001b[0m \u001b[0;34m>\u001b[0m \u001b[0malo\u001b[0m \u001b[0;32mand\u001b[0m \u001b[0mbestj\u001b[0m \u001b[0;34m>\u001b[0m \u001b[0mblo\u001b[0m \u001b[0;32mand\u001b[0m\u001b[0;31m \u001b[0m\u001b[0;31m\\\u001b[0m\u001b[0;34m\u001b[0m\u001b[0m\n\u001b[1;32m    432\u001b[0m               \u001b[0;32mnot\u001b[0m \u001b[0misbjunk\u001b[0m\u001b[0;34m(\u001b[0m\u001b[0mb\u001b[0m\u001b[0;34m[\u001b[0m\u001b[0mbestj\u001b[0m\u001b[0;34m-\u001b[0m\u001b[0;36m1\u001b[0m\u001b[0;34m]\u001b[0m\u001b[0;34m)\u001b[0m \u001b[0;32mand\u001b[0m\u001b[0;31m \u001b[0m\u001b[0;31m\\\u001b[0m\u001b[0;34m\u001b[0m\u001b[0m\n\u001b[0;32m--> 433\u001b[0;31m               \u001b[0ma\u001b[0m\u001b[0;34m[\u001b[0m\u001b[0mbesti\u001b[0m\u001b[0;34m-\u001b[0m\u001b[0;36m1\u001b[0m\u001b[0;34m]\u001b[0m \u001b[0;34m==\u001b[0m \u001b[0mb\u001b[0m\u001b[0;34m[\u001b[0m\u001b[0mbestj\u001b[0m\u001b[0;34m-\u001b[0m\u001b[0;36m1\u001b[0m\u001b[0;34m]\u001b[0m\u001b[0;34m:\u001b[0m\u001b[0;34m\u001b[0m\u001b[0m\n\u001b[0m\u001b[1;32m    434\u001b[0m             \u001b[0mbesti\u001b[0m\u001b[0;34m,\u001b[0m \u001b[0mbestj\u001b[0m\u001b[0;34m,\u001b[0m \u001b[0mbestsize\u001b[0m \u001b[0;34m=\u001b[0m \u001b[0mbesti\u001b[0m\u001b[0;34m-\u001b[0m\u001b[0;36m1\u001b[0m\u001b[0;34m,\u001b[0m \u001b[0mbestj\u001b[0m\u001b[0;34m-\u001b[0m\u001b[0;36m1\u001b[0m\u001b[0;34m,\u001b[0m \u001b[0mbestsize\u001b[0m\u001b[0;34m+\u001b[0m\u001b[0;36m1\u001b[0m\u001b[0;34m\u001b[0m\u001b[0m\n\u001b[1;32m    435\u001b[0m         \u001b[0;32mwhile\u001b[0m \u001b[0mbesti\u001b[0m\u001b[0;34m+\u001b[0m\u001b[0mbestsize\u001b[0m \u001b[0;34m<\u001b[0m \u001b[0mahi\u001b[0m \u001b[0;32mand\u001b[0m \u001b[0mbestj\u001b[0m\u001b[0;34m+\u001b[0m\u001b[0mbestsize\u001b[0m \u001b[0;34m<\u001b[0m \u001b[0mbhi\u001b[0m \u001b[0;32mand\u001b[0m\u001b[0;31m \u001b[0m\u001b[0;31m\\\u001b[0m\u001b[0;34m\u001b[0m\u001b[0m\n",
      "\u001b[0;31mKeyboardInterrupt\u001b[0m: "
     ]
    }
   ],
   "source": [
    "import editdistance\n",
    "from fuzzywuzzy import fuzz\n",
    "def find_matching(missing, names):\n",
    "    matching_districts = {}\n",
    "    for m in missing:\n",
    "        max_overlap = 0\n",
    "        nearest_d = None\n",
    "        for d in names:\n",
    "            d = str(d)\n",
    "            dist = fuzz.partial_ratio(m, d)\n",
    "            if dist > max_overlap:\n",
    "                max_overlap = dist\n",
    "                nearest_d = d\n",
    "        matching_districts[m] = nearest_d\n",
    "    return matching_districts\n",
    "\n",
    "\n",
    "matching = find_matching(missing_admin_names, districts)\n",
    "matching_p = find_matching(missing_admin_names, provinces)\n",
    "#manually verify matching and update\n",
    "for k in matching.keys():\n",
    "    print (k, matching[k], matching_p[k])\n"
   ]
  },
  {
   "cell_type": "code",
   "execution_count": 338,
   "metadata": {
    "collapsed": true
   },
   "outputs": [],
   "source": [
    "# after validating the matches, the names are logged in this csv file\n",
    "valid_matching = pd.read_csv('matching_districts.csv')"
   ]
  },
  {
   "cell_type": "code",
   "execution_count": 339,
   "metadata": {},
   "outputs": [
    {
     "name": "stdout",
     "output_type": "stream",
     "text": [
      "(230, 230)\n"
     ]
    },
    {
     "data": {
      "text/plain": [
       "set()"
      ]
     },
     "execution_count": 339,
     "metadata": {},
     "output_type": "execute_result"
    }
   ],
   "source": [
    "matched = valid_matching['missing'].unique()\n",
    "# matched = [bytes(m).decode(\"unicode_escape\") for  m in matched]\n",
    "missing_admin_names =  [m.decode(\"unicode_escape\").encode('ascii', 'backslashreplace') for m in missing_admin_names]\n",
    "print (len(missing_admin_names), len(matched))\n",
    "set(missing_admin_names).difference(matched)"
   ]
  },
  {
   "cell_type": "code",
   "execution_count": 340,
   "metadata": {},
   "outputs": [],
   "source": [
    "def find_province(x):\n",
    "    try:\n",
    "        if x in districts:\n",
    "            return admins[admins['district']==x]['province'].values[0]\n",
    "        elif x in provinces:\n",
    "            return x\n",
    "        elif x.decode(\"unicode_escape\").encode('ascii', 'backslashreplace') in matched:\n",
    "            x = x.decode(\"unicode_escape\").encode('ascii', 'backslashreplace')\n",
    "            v = valid_matching[valid_matching['missing']==x]\n",
    "            if v['match'].values[0]=='district':\n",
    "                x = v['district'].values[0]\n",
    "                return admins[admins['district']==x]['province'].values[0]\n",
    "            elif v['match'].values[0]=='province':\n",
    "                return v['province'].values[0]\n",
    "    except:\n",
    "        raise Exception(\"Province not found for: {}\".format(x))"
   ]
  },
  {
   "cell_type": "code",
   "execution_count": 341,
   "metadata": {},
   "outputs": [],
   "source": [
    "admin_to_province = {}\n",
    "for a in admin_names:\n",
    "    try:\n",
    "        admin_to_province[a] = find_province(a)\n",
    "    except:\n",
    "        print (a)"
   ]
  },
  {
   "cell_type": "code",
   "execution_count": 342,
   "metadata": {
    "collapsed": true
   },
   "outputs": [],
   "source": [
    "time_series['province'] = time_series['admin_name'].apply(lambda x: admin_to_province[x])"
   ]
  },
  {
   "cell_type": "code",
   "execution_count": 343,
   "metadata": {},
   "outputs": [],
   "source": [
    "def add_agg_factors(features, level='province'):\n",
    "    grouped_df = time_series.groupby(['year_month', level]).mean()\n",
    "    for f in features:\n",
    "        time_series['{}_{}'.format(f, level)] = time_series.apply(lambda x: grouped_df.ix[x['year_month'], x[level]][f], axis=1)"
   ]
  },
  {
   "cell_type": "code",
   "execution_count": 344,
   "metadata": {},
   "outputs": [
    {
     "name": "stderr",
     "output_type": "stream",
     "text": [
      "/home/ananth/anaconda2/lib/python2.7/site-packages/ipykernel_launcher.py:4: DeprecationWarning: \n",
      ".ix is deprecated. Please use\n",
      ".loc for label based indexing or\n",
      ".iloc for positional indexing\n",
      "\n",
      "See the documentation here:\n",
      "http://pandas.pydata.org/pandas-docs/stable/indexing.html#ix-indexer-is-deprecated\n",
      "  after removing the cwd from sys.path.\n"
     ]
    }
   ],
   "source": [
    "add_agg_factors(news_factors)"
   ]
  },
  {
   "cell_type": "code",
   "execution_count": 346,
   "metadata": {},
   "outputs": [
    {
     "name": "stderr",
     "output_type": "stream",
     "text": [
      "/home/ananth/anaconda2/lib/python2.7/site-packages/ipykernel_launcher.py:4: DeprecationWarning: \n",
      ".ix is deprecated. Please use\n",
      ".loc for label based indexing or\n",
      ".iloc for positional indexing\n",
      "\n",
      "See the documentation here:\n",
      "http://pandas.pydata.org/pandas-docs/stable/indexing.html#ix-indexer-is-deprecated\n",
      "  after removing the cwd from sys.path.\n"
     ]
    }
   ],
   "source": [
    "add_agg_factors(news_factors, level='country')\n",
    "add_agg_factors(t_variant_traditional_factors, level='province')\n",
    "add_agg_factors(t_variant_traditional_factors, level='country')\n",
    "add_agg_factors(t_invariant_traditional_factors, level='province')\n",
    "add_agg_factors(t_invariant_traditional_factors, level='country')"
   ]
  },
  {
   "cell_type": "code",
   "execution_count": 345,
   "metadata": {
    "collapsed": true
   },
   "outputs": [],
   "source": [
    "time_series.to_csv('agg_province_features.csv')"
   ]
  },
  {
   "cell_type": "code",
   "execution_count": 347,
   "metadata": {
    "collapsed": true
   },
   "outputs": [],
   "source": [
    "time_series.to_csv('agg_province_country_all_features.csv')"
   ]
  },
  {
   "cell_type": "code",
   "execution_count": 350,
   "metadata": {
    "collapsed": true
   },
   "outputs": [],
   "source": [
    "add_time_lagged(t_variant_traditional_factors)"
   ]
  },
  {
   "cell_type": "code",
   "execution_count": 351,
   "metadata": {
    "collapsed": true
   },
   "outputs": [
    {
     "ename": "KeyboardInterrupt",
     "evalue": "",
     "output_type": "error",
     "traceback": [
      "\u001b[0;31m---------------------------------------------------------------------------\u001b[0m",
      "\u001b[0;31mKeyboardInterrupt\u001b[0m                         Traceback (most recent call last)",
      "\u001b[0;32m<ipython-input-351-4512d5ddd808>\u001b[0m in \u001b[0;36m<module>\u001b[0;34m()\u001b[0m\n\u001b[0;32m----> 1\u001b[0;31m \u001b[0madd_time_lagged\u001b[0m\u001b[0;34m(\u001b[0m\u001b[0mnews_factors\u001b[0m\u001b[0;34m)\u001b[0m\u001b[0;34m\u001b[0m\u001b[0m\n\u001b[0m",
      "\u001b[0;32m<ipython-input-349-18a5da2d0495>\u001b[0m in \u001b[0;36madd_time_lagged\u001b[0;34m(features, start, end, diff)\u001b[0m\n\u001b[1;32m      6\u001b[0m                 \u001b[0;32mif\u001b[0m \u001b[0;34m'{}_{}'\u001b[0m\u001b[0;34m.\u001b[0m\u001b[0mformat\u001b[0m\u001b[0;34m(\u001b[0m\u001b[0mf_s\u001b[0m\u001b[0;34m,\u001b[0m\u001b[0mt\u001b[0m\u001b[0;34m)\u001b[0m \u001b[0;32min\u001b[0m \u001b[0mtime_series\u001b[0m\u001b[0;34m:\u001b[0m\u001b[0;34m\u001b[0m\u001b[0m\n\u001b[1;32m      7\u001b[0m                     \u001b[0;32mcontinue\u001b[0m\u001b[0;34m\u001b[0m\u001b[0m\n\u001b[0;32m----> 8\u001b[0;31m                 \u001b[0mtime_series\u001b[0m\u001b[0;34m[\u001b[0m\u001b[0;34m'{}_{}'\u001b[0m\u001b[0;34m.\u001b[0m\u001b[0mformat\u001b[0m\u001b[0;34m(\u001b[0m\u001b[0mf_s\u001b[0m\u001b[0;34m,\u001b[0m\u001b[0mt\u001b[0m\u001b[0;34m)\u001b[0m\u001b[0;34m]\u001b[0m \u001b[0;34m=\u001b[0m \u001b[0mtime_series\u001b[0m\u001b[0;34m.\u001b[0m\u001b[0mapply\u001b[0m\u001b[0;34m(\u001b[0m\u001b[0;32mlambda\u001b[0m \u001b[0mx\u001b[0m\u001b[0;34m:\u001b[0m \u001b[0mget_lagged\u001b[0m\u001b[0;34m(\u001b[0m\u001b[0mx\u001b[0m\u001b[0;34m,\u001b[0m \u001b[0mf_s\u001b[0m\u001b[0;34m,\u001b[0m \u001b[0mt\u001b[0m\u001b[0;34m)\u001b[0m\u001b[0;34m,\u001b[0m \u001b[0maxis\u001b[0m\u001b[0;34m=\u001b[0m\u001b[0;36m1\u001b[0m\u001b[0;34m)\u001b[0m\u001b[0;34m\u001b[0m\u001b[0m\n\u001b[0m",
      "\u001b[0;32m/home/ananth/anaconda2/lib/python2.7/site-packages/pandas/core/frame.pyc\u001b[0m in \u001b[0;36mapply\u001b[0;34m(self, func, axis, broadcast, raw, reduce, result_type, args, **kwds)\u001b[0m\n\u001b[1;32m   6485\u001b[0m                          \u001b[0margs\u001b[0m\u001b[0;34m=\u001b[0m\u001b[0margs\u001b[0m\u001b[0;34m,\u001b[0m\u001b[0;34m\u001b[0m\u001b[0m\n\u001b[1;32m   6486\u001b[0m                          kwds=kwds)\n\u001b[0;32m-> 6487\u001b[0;31m         \u001b[0;32mreturn\u001b[0m \u001b[0mop\u001b[0m\u001b[0;34m.\u001b[0m\u001b[0mget_result\u001b[0m\u001b[0;34m(\u001b[0m\u001b[0;34m)\u001b[0m\u001b[0;34m\u001b[0m\u001b[0m\n\u001b[0m\u001b[1;32m   6488\u001b[0m \u001b[0;34m\u001b[0m\u001b[0m\n\u001b[1;32m   6489\u001b[0m     \u001b[0;32mdef\u001b[0m \u001b[0mapplymap\u001b[0m\u001b[0;34m(\u001b[0m\u001b[0mself\u001b[0m\u001b[0;34m,\u001b[0m \u001b[0mfunc\u001b[0m\u001b[0;34m)\u001b[0m\u001b[0;34m:\u001b[0m\u001b[0;34m\u001b[0m\u001b[0m\n",
      "\u001b[0;32m/home/ananth/anaconda2/lib/python2.7/site-packages/pandas/core/apply.pyc\u001b[0m in \u001b[0;36mget_result\u001b[0;34m(self)\u001b[0m\n\u001b[1;32m    149\u001b[0m             \u001b[0;32mreturn\u001b[0m \u001b[0mself\u001b[0m\u001b[0;34m.\u001b[0m\u001b[0mapply_raw\u001b[0m\u001b[0;34m(\u001b[0m\u001b[0;34m)\u001b[0m\u001b[0;34m\u001b[0m\u001b[0m\n\u001b[1;32m    150\u001b[0m \u001b[0;34m\u001b[0m\u001b[0m\n\u001b[0;32m--> 151\u001b[0;31m         \u001b[0;32mreturn\u001b[0m \u001b[0mself\u001b[0m\u001b[0;34m.\u001b[0m\u001b[0mapply_standard\u001b[0m\u001b[0;34m(\u001b[0m\u001b[0;34m)\u001b[0m\u001b[0;34m\u001b[0m\u001b[0m\n\u001b[0m\u001b[1;32m    152\u001b[0m \u001b[0;34m\u001b[0m\u001b[0m\n\u001b[1;32m    153\u001b[0m     \u001b[0;32mdef\u001b[0m \u001b[0mapply_empty_result\u001b[0m\u001b[0;34m(\u001b[0m\u001b[0mself\u001b[0m\u001b[0;34m)\u001b[0m\u001b[0;34m:\u001b[0m\u001b[0;34m\u001b[0m\u001b[0m\n",
      "\u001b[0;32m/home/ananth/anaconda2/lib/python2.7/site-packages/pandas/core/apply.pyc\u001b[0m in \u001b[0;36mapply_standard\u001b[0;34m(self)\u001b[0m\n\u001b[1;32m    249\u001b[0m                                           \u001b[0maxis\u001b[0m\u001b[0;34m=\u001b[0m\u001b[0mself\u001b[0m\u001b[0;34m.\u001b[0m\u001b[0maxis\u001b[0m\u001b[0;34m,\u001b[0m\u001b[0;34m\u001b[0m\u001b[0m\n\u001b[1;32m    250\u001b[0m                                           \u001b[0mdummy\u001b[0m\u001b[0;34m=\u001b[0m\u001b[0mdummy\u001b[0m\u001b[0;34m,\u001b[0m\u001b[0;34m\u001b[0m\u001b[0m\n\u001b[0;32m--> 251\u001b[0;31m                                           labels=labels)\n\u001b[0m\u001b[1;32m    252\u001b[0m                 \u001b[0;32mreturn\u001b[0m \u001b[0mself\u001b[0m\u001b[0;34m.\u001b[0m\u001b[0mobj\u001b[0m\u001b[0;34m.\u001b[0m\u001b[0m_constructor_sliced\u001b[0m\u001b[0;34m(\u001b[0m\u001b[0mresult\u001b[0m\u001b[0;34m,\u001b[0m \u001b[0mindex\u001b[0m\u001b[0;34m=\u001b[0m\u001b[0mlabels\u001b[0m\u001b[0;34m)\u001b[0m\u001b[0;34m\u001b[0m\u001b[0m\n\u001b[1;32m    253\u001b[0m             \u001b[0;32mexcept\u001b[0m \u001b[0mException\u001b[0m\u001b[0;34m:\u001b[0m\u001b[0;34m\u001b[0m\u001b[0m\n",
      "\u001b[0;32mpandas/_libs/reduction.pyx\u001b[0m in \u001b[0;36mpandas._libs.reduction.reduce\u001b[0;34m()\u001b[0m\n",
      "\u001b[0;32mpandas/_libs/reduction.pyx\u001b[0m in \u001b[0;36mpandas._libs.reduction.Reducer.get_result\u001b[0;34m()\u001b[0m\n",
      "\u001b[0;32m<ipython-input-349-18a5da2d0495>\u001b[0m in \u001b[0;36m<lambda>\u001b[0;34m(x)\u001b[0m\n\u001b[1;32m      6\u001b[0m                 \u001b[0;32mif\u001b[0m \u001b[0;34m'{}_{}'\u001b[0m\u001b[0;34m.\u001b[0m\u001b[0mformat\u001b[0m\u001b[0;34m(\u001b[0m\u001b[0mf_s\u001b[0m\u001b[0;34m,\u001b[0m\u001b[0mt\u001b[0m\u001b[0;34m)\u001b[0m \u001b[0;32min\u001b[0m \u001b[0mtime_series\u001b[0m\u001b[0;34m:\u001b[0m\u001b[0;34m\u001b[0m\u001b[0m\n\u001b[1;32m      7\u001b[0m                     \u001b[0;32mcontinue\u001b[0m\u001b[0;34m\u001b[0m\u001b[0m\n\u001b[0;32m----> 8\u001b[0;31m                 \u001b[0mtime_series\u001b[0m\u001b[0;34m[\u001b[0m\u001b[0;34m'{}_{}'\u001b[0m\u001b[0;34m.\u001b[0m\u001b[0mformat\u001b[0m\u001b[0;34m(\u001b[0m\u001b[0mf_s\u001b[0m\u001b[0;34m,\u001b[0m\u001b[0mt\u001b[0m\u001b[0;34m)\u001b[0m\u001b[0;34m]\u001b[0m \u001b[0;34m=\u001b[0m \u001b[0mtime_series\u001b[0m\u001b[0;34m.\u001b[0m\u001b[0mapply\u001b[0m\u001b[0;34m(\u001b[0m\u001b[0;32mlambda\u001b[0m \u001b[0mx\u001b[0m\u001b[0;34m:\u001b[0m \u001b[0mget_lagged\u001b[0m\u001b[0;34m(\u001b[0m\u001b[0mx\u001b[0m\u001b[0;34m,\u001b[0m \u001b[0mf_s\u001b[0m\u001b[0;34m,\u001b[0m \u001b[0mt\u001b[0m\u001b[0;34m)\u001b[0m\u001b[0;34m,\u001b[0m \u001b[0maxis\u001b[0m\u001b[0;34m=\u001b[0m\u001b[0;36m1\u001b[0m\u001b[0;34m)\u001b[0m\u001b[0;34m\u001b[0m\u001b[0m\n\u001b[0m",
      "\u001b[0;32m<ipython-input-6-892e711e52e8>\u001b[0m in \u001b[0;36mget_lagged\u001b[0;34m(x, f, t)\u001b[0m\n\u001b[1;32m      7\u001b[0m     \u001b[0;32mif\u001b[0m \u001b[0mmonth\u001b[0m\u001b[0;34m-\u001b[0m\u001b[0mt\u001b[0m\u001b[0;34m<=\u001b[0m\u001b[0;36m0\u001b[0m\u001b[0;34m:\u001b[0m\u001b[0;34m\u001b[0m\u001b[0m\n\u001b[1;32m      8\u001b[0m         \u001b[0ml_year\u001b[0m \u001b[0;34m-=\u001b[0m \u001b[0;36m1\u001b[0m\u001b[0;34m\u001b[0m\u001b[0m\n\u001b[0;32m----> 9\u001b[0;31m     \u001b[0mts\u001b[0m\u001b[0;34m=\u001b[0m\u001b[0mtime_series\u001b[0m\u001b[0;34m[\u001b[0m\u001b[0mtime_series\u001b[0m\u001b[0;34m[\u001b[0m\u001b[0;34m'admin_code'\u001b[0m\u001b[0;34m]\u001b[0m\u001b[0;34m==\u001b[0m\u001b[0madmin_code\u001b[0m\u001b[0;34m]\u001b[0m\u001b[0;34m\u001b[0m\u001b[0m\n\u001b[0m\u001b[1;32m     10\u001b[0m     \u001b[0mlagged_year_month\u001b[0m \u001b[0;34m=\u001b[0m \u001b[0;34m'{}_{}'\u001b[0m\u001b[0;34m.\u001b[0m\u001b[0mformat\u001b[0m\u001b[0;34m(\u001b[0m\u001b[0ml_year\u001b[0m\u001b[0;34m,\u001b[0m \u001b[0ml_month\u001b[0m\u001b[0;34m)\u001b[0m\u001b[0;34m\u001b[0m\u001b[0m\n\u001b[1;32m     11\u001b[0m     \u001b[0;32mif\u001b[0m \u001b[0mlagged_year_month\u001b[0m \u001b[0;32min\u001b[0m \u001b[0mts\u001b[0m\u001b[0;34m[\u001b[0m\u001b[0;34m'year_month'\u001b[0m\u001b[0;34m]\u001b[0m\u001b[0;34m.\u001b[0m\u001b[0mvalues\u001b[0m\u001b[0;34m:\u001b[0m\u001b[0;34m\u001b[0m\u001b[0m\n",
      "\u001b[0;32m/home/ananth/anaconda2/lib/python2.7/site-packages/pandas/core/frame.pyc\u001b[0m in \u001b[0;36m__getitem__\u001b[0;34m(self, key)\u001b[0m\n\u001b[1;32m   2916\u001b[0m         \u001b[0;31m# Do we have a (boolean) 1d indexer?\u001b[0m\u001b[0;34m\u001b[0m\u001b[0;34m\u001b[0m\u001b[0m\n\u001b[1;32m   2917\u001b[0m         \u001b[0;32mif\u001b[0m \u001b[0mcom\u001b[0m\u001b[0;34m.\u001b[0m\u001b[0mis_bool_indexer\u001b[0m\u001b[0;34m(\u001b[0m\u001b[0mkey\u001b[0m\u001b[0;34m)\u001b[0m\u001b[0;34m:\u001b[0m\u001b[0;34m\u001b[0m\u001b[0m\n\u001b[0;32m-> 2918\u001b[0;31m             \u001b[0;32mreturn\u001b[0m \u001b[0mself\u001b[0m\u001b[0;34m.\u001b[0m\u001b[0m_getitem_bool_array\u001b[0m\u001b[0;34m(\u001b[0m\u001b[0mkey\u001b[0m\u001b[0;34m)\u001b[0m\u001b[0;34m\u001b[0m\u001b[0m\n\u001b[0m\u001b[1;32m   2919\u001b[0m \u001b[0;34m\u001b[0m\u001b[0m\n\u001b[1;32m   2920\u001b[0m         \u001b[0;31m# We are left with two options: a single key, and a collection of keys,\u001b[0m\u001b[0;34m\u001b[0m\u001b[0;34m\u001b[0m\u001b[0m\n",
      "\u001b[0;32m/home/ananth/anaconda2/lib/python2.7/site-packages/pandas/core/frame.pyc\u001b[0m in \u001b[0;36m_getitem_bool_array\u001b[0;34m(self, key)\u001b[0m\n\u001b[1;32m   2967\u001b[0m         \u001b[0mkey\u001b[0m \u001b[0;34m=\u001b[0m \u001b[0mcheck_bool_indexer\u001b[0m\u001b[0;34m(\u001b[0m\u001b[0mself\u001b[0m\u001b[0;34m.\u001b[0m\u001b[0mindex\u001b[0m\u001b[0;34m,\u001b[0m \u001b[0mkey\u001b[0m\u001b[0;34m)\u001b[0m\u001b[0;34m\u001b[0m\u001b[0m\n\u001b[1;32m   2968\u001b[0m         \u001b[0mindexer\u001b[0m \u001b[0;34m=\u001b[0m \u001b[0mkey\u001b[0m\u001b[0;34m.\u001b[0m\u001b[0mnonzero\u001b[0m\u001b[0;34m(\u001b[0m\u001b[0;34m)\u001b[0m\u001b[0;34m[\u001b[0m\u001b[0;36m0\u001b[0m\u001b[0;34m]\u001b[0m\u001b[0;34m\u001b[0m\u001b[0m\n\u001b[0;32m-> 2969\u001b[0;31m         \u001b[0;32mreturn\u001b[0m \u001b[0mself\u001b[0m\u001b[0;34m.\u001b[0m\u001b[0m_take\u001b[0m\u001b[0;34m(\u001b[0m\u001b[0mindexer\u001b[0m\u001b[0;34m,\u001b[0m \u001b[0maxis\u001b[0m\u001b[0;34m=\u001b[0m\u001b[0;36m0\u001b[0m\u001b[0;34m)\u001b[0m\u001b[0;34m\u001b[0m\u001b[0m\n\u001b[0m\u001b[1;32m   2970\u001b[0m \u001b[0;34m\u001b[0m\u001b[0m\n\u001b[1;32m   2971\u001b[0m     \u001b[0;32mdef\u001b[0m \u001b[0m_getitem_multilevel\u001b[0m\u001b[0;34m(\u001b[0m\u001b[0mself\u001b[0m\u001b[0;34m,\u001b[0m \u001b[0mkey\u001b[0m\u001b[0;34m)\u001b[0m\u001b[0;34m:\u001b[0m\u001b[0;34m\u001b[0m\u001b[0m\n",
      "\u001b[0;32m/home/ananth/anaconda2/lib/python2.7/site-packages/pandas/core/generic.pyc\u001b[0m in \u001b[0;36m_take\u001b[0;34m(self, indices, axis, is_copy)\u001b[0m\n\u001b[1;32m   3357\u001b[0m         new_data = self._data.take(indices,\n\u001b[1;32m   3358\u001b[0m                                    \u001b[0maxis\u001b[0m\u001b[0;34m=\u001b[0m\u001b[0mself\u001b[0m\u001b[0;34m.\u001b[0m\u001b[0m_get_block_manager_axis\u001b[0m\u001b[0;34m(\u001b[0m\u001b[0maxis\u001b[0m\u001b[0;34m)\u001b[0m\u001b[0;34m,\u001b[0m\u001b[0;34m\u001b[0m\u001b[0m\n\u001b[0;32m-> 3359\u001b[0;31m                                    verify=True)\n\u001b[0m\u001b[1;32m   3360\u001b[0m         \u001b[0mresult\u001b[0m \u001b[0;34m=\u001b[0m \u001b[0mself\u001b[0m\u001b[0;34m.\u001b[0m\u001b[0m_constructor\u001b[0m\u001b[0;34m(\u001b[0m\u001b[0mnew_data\u001b[0m\u001b[0;34m)\u001b[0m\u001b[0;34m.\u001b[0m\u001b[0m__finalize__\u001b[0m\u001b[0;34m(\u001b[0m\u001b[0mself\u001b[0m\u001b[0;34m)\u001b[0m\u001b[0;34m\u001b[0m\u001b[0m\n\u001b[1;32m   3361\u001b[0m \u001b[0;34m\u001b[0m\u001b[0m\n",
      "\u001b[0;32m/home/ananth/anaconda2/lib/python2.7/site-packages/pandas/core/internals/managers.pyc\u001b[0m in \u001b[0;36mtake\u001b[0;34m(self, indexer, axis, verify, convert)\u001b[0m\n\u001b[1;32m   1339\u001b[0m         \u001b[0mn\u001b[0m \u001b[0;34m=\u001b[0m \u001b[0mself\u001b[0m\u001b[0;34m.\u001b[0m\u001b[0mshape\u001b[0m\u001b[0;34m[\u001b[0m\u001b[0maxis\u001b[0m\u001b[0;34m]\u001b[0m\u001b[0;34m\u001b[0m\u001b[0m\n\u001b[1;32m   1340\u001b[0m         \u001b[0;32mif\u001b[0m \u001b[0mconvert\u001b[0m\u001b[0;34m:\u001b[0m\u001b[0;34m\u001b[0m\u001b[0m\n\u001b[0;32m-> 1341\u001b[0;31m             \u001b[0mindexer\u001b[0m \u001b[0;34m=\u001b[0m \u001b[0mmaybe_convert_indices\u001b[0m\u001b[0;34m(\u001b[0m\u001b[0mindexer\u001b[0m\u001b[0;34m,\u001b[0m \u001b[0mn\u001b[0m\u001b[0;34m)\u001b[0m\u001b[0;34m\u001b[0m\u001b[0m\n\u001b[0m\u001b[1;32m   1342\u001b[0m \u001b[0;34m\u001b[0m\u001b[0m\n\u001b[1;32m   1343\u001b[0m         \u001b[0;32mif\u001b[0m \u001b[0mverify\u001b[0m\u001b[0;34m:\u001b[0m\u001b[0;34m\u001b[0m\u001b[0m\n",
      "\u001b[0;32m/home/ananth/anaconda2/lib/python2.7/site-packages/pandas/core/indexing.pyc\u001b[0m in \u001b[0;36mmaybe_convert_indices\u001b[0;34m(indices, n)\u001b[0m\n\u001b[1;32m   2606\u001b[0m             \u001b[0;32mreturn\u001b[0m \u001b[0mnp\u001b[0m\u001b[0;34m.\u001b[0m\u001b[0mempty\u001b[0m\u001b[0;34m(\u001b[0m\u001b[0;36m0\u001b[0m\u001b[0;34m,\u001b[0m \u001b[0mdtype\u001b[0m\u001b[0;34m=\u001b[0m\u001b[0mnp\u001b[0m\u001b[0;34m.\u001b[0m\u001b[0mintp\u001b[0m\u001b[0;34m)\u001b[0m\u001b[0;34m\u001b[0m\u001b[0m\n\u001b[1;32m   2607\u001b[0m \u001b[0;34m\u001b[0m\u001b[0m\n\u001b[0;32m-> 2608\u001b[0;31m     \u001b[0mmask\u001b[0m \u001b[0;34m=\u001b[0m \u001b[0mindices\u001b[0m \u001b[0;34m<\u001b[0m \u001b[0;36m0\u001b[0m\u001b[0;34m\u001b[0m\u001b[0m\n\u001b[0m\u001b[1;32m   2609\u001b[0m     \u001b[0;32mif\u001b[0m \u001b[0mmask\u001b[0m\u001b[0;34m.\u001b[0m\u001b[0many\u001b[0m\u001b[0;34m(\u001b[0m\u001b[0;34m)\u001b[0m\u001b[0;34m:\u001b[0m\u001b[0;34m\u001b[0m\u001b[0m\n\u001b[1;32m   2610\u001b[0m         \u001b[0mindices\u001b[0m \u001b[0;34m=\u001b[0m \u001b[0mindices\u001b[0m\u001b[0;34m.\u001b[0m\u001b[0mcopy\u001b[0m\u001b[0;34m(\u001b[0m\u001b[0;34m)\u001b[0m\u001b[0;34m\u001b[0m\u001b[0m\n",
      "\u001b[0;31mKeyboardInterrupt\u001b[0m: "
     ]
    }
   ],
   "source": [
    "add_time_lagged(news_factors)"
   ]
  },
  {
   "cell_type": "code",
   "execution_count": 352,
   "metadata": {
    "collapsed": true
   },
   "outputs": [
    {
     "ename": "KeyError",
     "evalue": "('fews_ipc_province', u'occurred at index 0')",
     "output_type": "error",
     "traceback": [
      "\u001b[0;31m---------------------------------------------------------------------------\u001b[0m",
      "\u001b[0;31mKeyError\u001b[0m                                  Traceback (most recent call last)",
      "\u001b[0;32m<ipython-input-352-54ac188d0c9b>\u001b[0m in \u001b[0;36m<module>\u001b[0;34m()\u001b[0m\n\u001b[0;32m----> 1\u001b[0;31m \u001b[0madd_time_lagged\u001b[0m\u001b[0;34m(\u001b[0m\u001b[0;34m[\u001b[0m\u001b[0;34m'fews_ipc'\u001b[0m\u001b[0;34m]\u001b[0m\u001b[0;34m,\u001b[0m \u001b[0mend\u001b[0m\u001b[0;34m=\u001b[0m\u001b[0;36m21\u001b[0m\u001b[0;34m,\u001b[0m \u001b[0mdiff\u001b[0m\u001b[0;34m=\u001b[0m\u001b[0;36m3\u001b[0m\u001b[0;34m)\u001b[0m\u001b[0;34m\u001b[0m\u001b[0m\n\u001b[0m",
      "\u001b[0;32m<ipython-input-349-18a5da2d0495>\u001b[0m in \u001b[0;36madd_time_lagged\u001b[0;34m(features, start, end, diff)\u001b[0m\n\u001b[1;32m      6\u001b[0m                 \u001b[0;32mif\u001b[0m \u001b[0;34m'{}_{}'\u001b[0m\u001b[0;34m.\u001b[0m\u001b[0mformat\u001b[0m\u001b[0;34m(\u001b[0m\u001b[0mf_s\u001b[0m\u001b[0;34m,\u001b[0m\u001b[0mt\u001b[0m\u001b[0;34m)\u001b[0m \u001b[0;32min\u001b[0m \u001b[0mtime_series\u001b[0m\u001b[0;34m:\u001b[0m\u001b[0;34m\u001b[0m\u001b[0m\n\u001b[1;32m      7\u001b[0m                     \u001b[0;32mcontinue\u001b[0m\u001b[0;34m\u001b[0m\u001b[0m\n\u001b[0;32m----> 8\u001b[0;31m                 \u001b[0mtime_series\u001b[0m\u001b[0;34m[\u001b[0m\u001b[0;34m'{}_{}'\u001b[0m\u001b[0;34m.\u001b[0m\u001b[0mformat\u001b[0m\u001b[0;34m(\u001b[0m\u001b[0mf_s\u001b[0m\u001b[0;34m,\u001b[0m\u001b[0mt\u001b[0m\u001b[0;34m)\u001b[0m\u001b[0;34m]\u001b[0m \u001b[0;34m=\u001b[0m \u001b[0mtime_series\u001b[0m\u001b[0;34m.\u001b[0m\u001b[0mapply\u001b[0m\u001b[0;34m(\u001b[0m\u001b[0;32mlambda\u001b[0m \u001b[0mx\u001b[0m\u001b[0;34m:\u001b[0m \u001b[0mget_lagged\u001b[0m\u001b[0;34m(\u001b[0m\u001b[0mx\u001b[0m\u001b[0;34m,\u001b[0m \u001b[0mf_s\u001b[0m\u001b[0;34m,\u001b[0m \u001b[0mt\u001b[0m\u001b[0;34m)\u001b[0m\u001b[0;34m,\u001b[0m \u001b[0maxis\u001b[0m\u001b[0;34m=\u001b[0m\u001b[0;36m1\u001b[0m\u001b[0;34m)\u001b[0m\u001b[0;34m\u001b[0m\u001b[0m\n\u001b[0m",
      "\u001b[0;32m/home/ananth/anaconda2/lib/python2.7/site-packages/pandas/core/frame.pyc\u001b[0m in \u001b[0;36mapply\u001b[0;34m(self, func, axis, broadcast, raw, reduce, result_type, args, **kwds)\u001b[0m\n\u001b[1;32m   6485\u001b[0m                          \u001b[0margs\u001b[0m\u001b[0;34m=\u001b[0m\u001b[0margs\u001b[0m\u001b[0;34m,\u001b[0m\u001b[0;34m\u001b[0m\u001b[0m\n\u001b[1;32m   6486\u001b[0m                          kwds=kwds)\n\u001b[0;32m-> 6487\u001b[0;31m         \u001b[0;32mreturn\u001b[0m \u001b[0mop\u001b[0m\u001b[0;34m.\u001b[0m\u001b[0mget_result\u001b[0m\u001b[0;34m(\u001b[0m\u001b[0;34m)\u001b[0m\u001b[0;34m\u001b[0m\u001b[0m\n\u001b[0m\u001b[1;32m   6488\u001b[0m \u001b[0;34m\u001b[0m\u001b[0m\n\u001b[1;32m   6489\u001b[0m     \u001b[0;32mdef\u001b[0m \u001b[0mapplymap\u001b[0m\u001b[0;34m(\u001b[0m\u001b[0mself\u001b[0m\u001b[0;34m,\u001b[0m \u001b[0mfunc\u001b[0m\u001b[0;34m)\u001b[0m\u001b[0;34m:\u001b[0m\u001b[0;34m\u001b[0m\u001b[0m\n",
      "\u001b[0;32m/home/ananth/anaconda2/lib/python2.7/site-packages/pandas/core/apply.pyc\u001b[0m in \u001b[0;36mget_result\u001b[0;34m(self)\u001b[0m\n\u001b[1;32m    149\u001b[0m             \u001b[0;32mreturn\u001b[0m \u001b[0mself\u001b[0m\u001b[0;34m.\u001b[0m\u001b[0mapply_raw\u001b[0m\u001b[0;34m(\u001b[0m\u001b[0;34m)\u001b[0m\u001b[0;34m\u001b[0m\u001b[0m\n\u001b[1;32m    150\u001b[0m \u001b[0;34m\u001b[0m\u001b[0m\n\u001b[0;32m--> 151\u001b[0;31m         \u001b[0;32mreturn\u001b[0m \u001b[0mself\u001b[0m\u001b[0;34m.\u001b[0m\u001b[0mapply_standard\u001b[0m\u001b[0;34m(\u001b[0m\u001b[0;34m)\u001b[0m\u001b[0;34m\u001b[0m\u001b[0m\n\u001b[0m\u001b[1;32m    152\u001b[0m \u001b[0;34m\u001b[0m\u001b[0m\n\u001b[1;32m    153\u001b[0m     \u001b[0;32mdef\u001b[0m \u001b[0mapply_empty_result\u001b[0m\u001b[0;34m(\u001b[0m\u001b[0mself\u001b[0m\u001b[0;34m)\u001b[0m\u001b[0;34m:\u001b[0m\u001b[0;34m\u001b[0m\u001b[0m\n",
      "\u001b[0;32m/home/ananth/anaconda2/lib/python2.7/site-packages/pandas/core/apply.pyc\u001b[0m in \u001b[0;36mapply_standard\u001b[0;34m(self)\u001b[0m\n\u001b[1;32m    255\u001b[0m \u001b[0;34m\u001b[0m\u001b[0m\n\u001b[1;32m    256\u001b[0m         \u001b[0;31m# compute the result using the series generator\u001b[0m\u001b[0;34m\u001b[0m\u001b[0;34m\u001b[0m\u001b[0m\n\u001b[0;32m--> 257\u001b[0;31m         \u001b[0mself\u001b[0m\u001b[0;34m.\u001b[0m\u001b[0mapply_series_generator\u001b[0m\u001b[0;34m(\u001b[0m\u001b[0;34m)\u001b[0m\u001b[0;34m\u001b[0m\u001b[0m\n\u001b[0m\u001b[1;32m    258\u001b[0m \u001b[0;34m\u001b[0m\u001b[0m\n\u001b[1;32m    259\u001b[0m         \u001b[0;31m# wrap results\u001b[0m\u001b[0;34m\u001b[0m\u001b[0;34m\u001b[0m\u001b[0m\n",
      "\u001b[0;32m/home/ananth/anaconda2/lib/python2.7/site-packages/pandas/core/apply.pyc\u001b[0m in \u001b[0;36mapply_series_generator\u001b[0;34m(self)\u001b[0m\n\u001b[1;32m    284\u001b[0m             \u001b[0;32mtry\u001b[0m\u001b[0;34m:\u001b[0m\u001b[0;34m\u001b[0m\u001b[0m\n\u001b[1;32m    285\u001b[0m                 \u001b[0;32mfor\u001b[0m \u001b[0mi\u001b[0m\u001b[0;34m,\u001b[0m \u001b[0mv\u001b[0m \u001b[0;32min\u001b[0m \u001b[0menumerate\u001b[0m\u001b[0;34m(\u001b[0m\u001b[0mseries_gen\u001b[0m\u001b[0;34m)\u001b[0m\u001b[0;34m:\u001b[0m\u001b[0;34m\u001b[0m\u001b[0m\n\u001b[0;32m--> 286\u001b[0;31m                     \u001b[0mresults\u001b[0m\u001b[0;34m[\u001b[0m\u001b[0mi\u001b[0m\u001b[0;34m]\u001b[0m \u001b[0;34m=\u001b[0m \u001b[0mself\u001b[0m\u001b[0;34m.\u001b[0m\u001b[0mf\u001b[0m\u001b[0;34m(\u001b[0m\u001b[0mv\u001b[0m\u001b[0;34m)\u001b[0m\u001b[0;34m\u001b[0m\u001b[0m\n\u001b[0m\u001b[1;32m    287\u001b[0m                     \u001b[0mkeys\u001b[0m\u001b[0;34m.\u001b[0m\u001b[0mappend\u001b[0m\u001b[0;34m(\u001b[0m\u001b[0mv\u001b[0m\u001b[0;34m.\u001b[0m\u001b[0mname\u001b[0m\u001b[0;34m)\u001b[0m\u001b[0;34m\u001b[0m\u001b[0m\n\u001b[1;32m    288\u001b[0m             \u001b[0;32mexcept\u001b[0m \u001b[0mException\u001b[0m \u001b[0;32mas\u001b[0m \u001b[0me\u001b[0m\u001b[0;34m:\u001b[0m\u001b[0;34m\u001b[0m\u001b[0m\n",
      "\u001b[0;32m<ipython-input-349-18a5da2d0495>\u001b[0m in \u001b[0;36m<lambda>\u001b[0;34m(x)\u001b[0m\n\u001b[1;32m      6\u001b[0m                 \u001b[0;32mif\u001b[0m \u001b[0;34m'{}_{}'\u001b[0m\u001b[0;34m.\u001b[0m\u001b[0mformat\u001b[0m\u001b[0;34m(\u001b[0m\u001b[0mf_s\u001b[0m\u001b[0;34m,\u001b[0m\u001b[0mt\u001b[0m\u001b[0;34m)\u001b[0m \u001b[0;32min\u001b[0m \u001b[0mtime_series\u001b[0m\u001b[0;34m:\u001b[0m\u001b[0;34m\u001b[0m\u001b[0m\n\u001b[1;32m      7\u001b[0m                     \u001b[0;32mcontinue\u001b[0m\u001b[0;34m\u001b[0m\u001b[0m\n\u001b[0;32m----> 8\u001b[0;31m                 \u001b[0mtime_series\u001b[0m\u001b[0;34m[\u001b[0m\u001b[0;34m'{}_{}'\u001b[0m\u001b[0;34m.\u001b[0m\u001b[0mformat\u001b[0m\u001b[0;34m(\u001b[0m\u001b[0mf_s\u001b[0m\u001b[0;34m,\u001b[0m\u001b[0mt\u001b[0m\u001b[0;34m)\u001b[0m\u001b[0;34m]\u001b[0m \u001b[0;34m=\u001b[0m \u001b[0mtime_series\u001b[0m\u001b[0;34m.\u001b[0m\u001b[0mapply\u001b[0m\u001b[0;34m(\u001b[0m\u001b[0;32mlambda\u001b[0m \u001b[0mx\u001b[0m\u001b[0;34m:\u001b[0m \u001b[0mget_lagged\u001b[0m\u001b[0;34m(\u001b[0m\u001b[0mx\u001b[0m\u001b[0;34m,\u001b[0m \u001b[0mf_s\u001b[0m\u001b[0;34m,\u001b[0m \u001b[0mt\u001b[0m\u001b[0;34m)\u001b[0m\u001b[0;34m,\u001b[0m \u001b[0maxis\u001b[0m\u001b[0;34m=\u001b[0m\u001b[0;36m1\u001b[0m\u001b[0;34m)\u001b[0m\u001b[0;34m\u001b[0m\u001b[0m\n\u001b[0m",
      "\u001b[0;32m<ipython-input-6-892e711e52e8>\u001b[0m in \u001b[0;36mget_lagged\u001b[0;34m(x, f, t)\u001b[0m\n\u001b[1;32m     13\u001b[0m         \u001b[0;32mreturn\u001b[0m \u001b[0mts\u001b[0m\u001b[0;34m[\u001b[0m\u001b[0mf\u001b[0m\u001b[0;34m]\u001b[0m\u001b[0;34m.\u001b[0m\u001b[0mvalues\u001b[0m\u001b[0;34m[\u001b[0m\u001b[0;36m0\u001b[0m\u001b[0;34m]\u001b[0m\u001b[0;34m\u001b[0m\u001b[0m\n\u001b[1;32m     14\u001b[0m     \u001b[0;32melse\u001b[0m\u001b[0;34m:\u001b[0m\u001b[0;34m\u001b[0m\u001b[0m\n\u001b[0;32m---> 15\u001b[0;31m         \u001b[0;32mreturn\u001b[0m \u001b[0mx\u001b[0m\u001b[0;34m[\u001b[0m\u001b[0mf\u001b[0m\u001b[0;34m]\u001b[0m\u001b[0;34m\u001b[0m\u001b[0m\n\u001b[0m\u001b[1;32m     16\u001b[0m \u001b[0;34m\u001b[0m\u001b[0m\n",
      "\u001b[0;32m/home/ananth/anaconda2/lib/python2.7/site-packages/pandas/core/series.pyc\u001b[0m in \u001b[0;36m__getitem__\u001b[0;34m(self, key)\u001b[0m\n\u001b[1;32m    866\u001b[0m         \u001b[0mkey\u001b[0m \u001b[0;34m=\u001b[0m \u001b[0mcom\u001b[0m\u001b[0;34m.\u001b[0m\u001b[0mapply_if_callable\u001b[0m\u001b[0;34m(\u001b[0m\u001b[0mkey\u001b[0m\u001b[0;34m,\u001b[0m \u001b[0mself\u001b[0m\u001b[0;34m)\u001b[0m\u001b[0;34m\u001b[0m\u001b[0m\n\u001b[1;32m    867\u001b[0m         \u001b[0;32mtry\u001b[0m\u001b[0;34m:\u001b[0m\u001b[0;34m\u001b[0m\u001b[0m\n\u001b[0;32m--> 868\u001b[0;31m             \u001b[0mresult\u001b[0m \u001b[0;34m=\u001b[0m \u001b[0mself\u001b[0m\u001b[0;34m.\u001b[0m\u001b[0mindex\u001b[0m\u001b[0;34m.\u001b[0m\u001b[0mget_value\u001b[0m\u001b[0;34m(\u001b[0m\u001b[0mself\u001b[0m\u001b[0;34m,\u001b[0m \u001b[0mkey\u001b[0m\u001b[0;34m)\u001b[0m\u001b[0;34m\u001b[0m\u001b[0m\n\u001b[0m\u001b[1;32m    869\u001b[0m \u001b[0;34m\u001b[0m\u001b[0m\n\u001b[1;32m    870\u001b[0m             \u001b[0;32mif\u001b[0m \u001b[0;32mnot\u001b[0m \u001b[0mis_scalar\u001b[0m\u001b[0;34m(\u001b[0m\u001b[0mresult\u001b[0m\u001b[0;34m)\u001b[0m\u001b[0;34m:\u001b[0m\u001b[0;34m\u001b[0m\u001b[0m\n",
      "\u001b[0;32m/home/ananth/anaconda2/lib/python2.7/site-packages/pandas/core/indexes/base.pyc\u001b[0m in \u001b[0;36mget_value\u001b[0;34m(self, series, key)\u001b[0m\n\u001b[1;32m   4387\u001b[0m                     \u001b[0;32mraise\u001b[0m \u001b[0mInvalidIndexError\u001b[0m\u001b[0;34m(\u001b[0m\u001b[0mkey\u001b[0m\u001b[0;34m)\u001b[0m\u001b[0;34m\u001b[0m\u001b[0m\n\u001b[1;32m   4388\u001b[0m                 \u001b[0;32melse\u001b[0m\u001b[0;34m:\u001b[0m\u001b[0;34m\u001b[0m\u001b[0m\n\u001b[0;32m-> 4389\u001b[0;31m                     \u001b[0;32mraise\u001b[0m \u001b[0me1\u001b[0m\u001b[0;34m\u001b[0m\u001b[0m\n\u001b[0m\u001b[1;32m   4390\u001b[0m             \u001b[0;32mexcept\u001b[0m \u001b[0mException\u001b[0m\u001b[0;34m:\u001b[0m  \u001b[0;31m# pragma: no cover\u001b[0m\u001b[0;34m\u001b[0m\u001b[0m\n\u001b[1;32m   4391\u001b[0m                 \u001b[0;32mraise\u001b[0m \u001b[0me1\u001b[0m\u001b[0;34m\u001b[0m\u001b[0m\n",
      "\u001b[0;31mKeyError\u001b[0m: ('fews_ipc_province', u'occurred at index 0')"
     ]
    }
   ],
   "source": [
    "add_time_lagged(['fews_ipc'], end=21, diff=3, agg=False)"
   ]
  },
  {
   "cell_type": "code",
   "execution_count": 356,
   "metadata": {},
   "outputs": [],
   "source": [
    "add_time_lagged(['fews_proj_near'], start=3, end=4, diff=1, agg=False)"
   ]
  },
  {
   "cell_type": "code",
   "execution_count": 368,
   "metadata": {},
   "outputs": [],
   "source": [
    "import math\n",
    "def diebold_mariano(preds, labels):\n",
    "    sq_error = [(p-l)**2 for p,l in zip(preds, labels)]\n",
    "    mean = np.mean(sq_error)\n",
    "    n = len(preds)\n",
    "    gammas = {}\n",
    "    m = max(n,int(math.ceil(np.cbrt(n))+2))\n",
    "    for k in range(m):\n",
    "        gammas[k] = 0\n",
    "        for i in range(k+1, n):\n",
    "            gammas[k] += (sq_error[i] - mean)*(sq_error[i-k] - mean)\n",
    "        gammas[k] = gammas[k]/n\n",
    "    sum_gamma = gammas[0]\n",
    "    for k in range(1, m):\n",
    "        sum_gamma += 2*gammas[k]\n",
    "    return np.sqrt(sum_gamma/n)"
   ]
  },
  {
   "cell_type": "code",
   "execution_count": 5,
   "metadata": {
    "collapsed": true
   },
   "outputs": [
    {
     "name": "stdout",
     "output_type": "stream",
     "text": [
      "[-2.50699856]\n"
     ]
    }
   ],
   "source": [
    "from sklearn.ensemble import RandomForestRegressor\n",
    "from sklearn.linear_model import LinearRegression\n",
    "from sklearn import linear_model\n",
    "\n",
    "from sklearn.metrics import mean_squared_error\n",
    "from sklearn.metrics import average_precision_score, precision_recall_curve\n",
    "from sklearn.metrics import auc, plot_precision_recall_curve\n",
    "\n",
    "test_splits = [\n",
    "    ((2010,7), (2011, 7)), \n",
    "    ((2011,7), (2012, 7)),\n",
    "    ((2012,7), (2013, 7)), \n",
    "    ((2013,7), (2014, 7)), \n",
    "    ((2014,7), (2015, 7)), \n",
    "    ((2015,7), (2016, 7)), \n",
    "    ((2016,7), (2017, 7)), \n",
    "    ((2017,7), (2018, 7)),\n",
    "    ((2018,7), (2019, 7)), \n",
    "    ((2019,2), (2020, 2)),\n",
    "]\n",
    "train_splits = [\n",
    "    ((2009,7), (2010,4)),\n",
    "    ((2009,7), (2011,1)),\n",
    "    ((2009,7), (2011,10)),\n",
    "    ((2009,7), (2012,7)),\n",
    "    ((2009,7), (2013,7)),\n",
    "    ((2009,7), (2014,1)),\n",
    "    ((2009,7), (2015,1)),\n",
    "    ((2009,7), (2015,10)),\n",
    "    ((2009,7), (2016,10)),\n",
    "    ((2009,7), (2017,2))]\n",
    "dev_splits = [\n",
    "    ((2010,4), (2010, 7)),\n",
    "    ((2011,1), (2011, 7)),\n",
    "    ((2011,10), (2012, 7)),\n",
    "    ((2012,7), (2013, 7)),\n",
    "    ((2013,4), (2014, 7)),\n",
    "    ((2014,1), (2015, 7)),\n",
    "    ((2015,1), (2016, 7)),\n",
    "    ((2015,10), (2017, 7)),\n",
    "    ((2016,10), (2018, 7)),\n",
    "    ((2017,2), (2019, 2)),\n",
    "]\n",
    "rf = RandomForestRegressor(max_features='auto', n_estimators=100, \n",
    "                             min_samples_split=0.5, min_impurity_decrease=0.001, random_state=0)\n",
    "ols = LinearRegression()\n",
    "\n",
    "lasso = linear_model.Lasso(alpha=0.1)\n",
    "\n",
    "def get_agg_lagged_features(factors):\n",
    "    return ['{}_{}'.format(f, t) for f, t in zip(factors, range(3,9))] + \n",
    "           ['{}_province_{}'.format(f, t) for f, t in zip(factors, range(3,9))] +\n",
    "           ['{}_country_{}'.format(f, t) for f, t in zip(factors, range(3,9))]\n",
    "        \n",
    "\n",
    "features = {\n",
    "    'traditional': time_series[\n",
    "        ['{}_{}'.format('fews_ipc', t) for t in range(3,21,3)] + \n",
    "        get_agg_lagged_features(t_variant_traditional_factors) + \n",
    "        t_invariant_traditional_factors\n",
    "    ], \n",
    "    'news': time_series[\n",
    "        ['{}_{}'.format('fews_ipc', t) for t in range(3,21,3)] +\n",
    "        get_agg_lagged_features(news_factors)\n",
    "    ], \n",
    "    'traditional+news': time_series[\n",
    "        ['{}_{}'.format('fews_ipc', t) for t in range(3,21,3)] +\n",
    "        get_agg_lagged_features(t_variant_traditional_factors) + \n",
    "        t_invariant_traditional_factors +\n",
    "        get_agg_lagged_features(news_factors)\n",
    "    ],\n",
    "    'expert': time_series['fews_proj_near_3'],\n",
    "    'expert+traditional': time_series[\n",
    "        ['fews_proj_near_3'] +\n",
    "        ['{}_{}'.format('fews_ipc', t) for t in range(3,21,3)] + \n",
    "        get_agg_lagged_features(t_variant_traditional_factors) + \n",
    "        t_invariant_traditional_factors\n",
    "    ],\n",
    "    'expert+news': time_series[\n",
    "        ['fews_proj_near_3'] +\n",
    "        ['{}_{}'.format('fews_ipc', t) for t in range(3,21,3)] +\n",
    "        get_agg_lagged_features(news_factors)\n",
    "    ],\n",
    "    'expert+traditional+news': time_series[\n",
    "        ['fews_proj_near_3'] +\n",
    "        ['{}_{}'.format('fews_ipc', t) for t in range(3,21,3)] +\n",
    "        get_agg_lagged_features(t_variant_traditional_factors) + \n",
    "        t_invariant_traditional_factors +\n",
    "        get_agg_lagged_features(news_factors)\n",
    "    ]\n",
    "}\n",
    "\n",
    "labels_df = time_series['fews_ipc']\n",
    "\n",
    "def get_time_split(df, start, end):\n",
    "    return df[df['year'] >= start[0] & df['month'] >= start[1] & df['year'] <= end[0] & df['month'] <= end[1]]\n",
    "\n",
    "for train, dev, test in zip(train_splits, dev_splits, test_splits):\n",
    "    for f, D in features.items():\n",
    "        X = get_time_split(D, train[0], train[1])\n",
    "        y = get_time_split(labels_df, test[0], test[1])\n",
    "        X_test = get_time_split(D, test[0], test[1])\n",
    "        for name, regr in zip(['RF', 'OLS', 'Lasso'], [rf, ols, lasso]):\n",
    "            regr.fit(X, y)\n",
    "            preds = regr.predict(X_test)\n",
    "            labels = get_time_split(labels_df, test[0], test[1])\n",
    "            rmse = mean_squared_error(labels, preds, squared=False)\n",
    "            stderr = diebold_mariano(preds, labels)\n",
    "            upper_bound = np.sqrt(rmse**2 + 1.96*stderr)\n",
    "            lower_bound = np.sqrt(rmse**2 - 1.96*stderr)\n",
    "            precision, recall, thresholds = precision_recall_curve(labels, preds)\n",
    "            auc_precision_recall = auc(recall, precision)\n",
    "            print (\"Method: {}, Split: {}, Features: {}, AUCPR: {}\".format(name, test, f, auc_precision_recall))\n",
    "            print (\"Method: {}, Split: {}, Features: {}, RMSE: {} [{}, {}]\".format(name, test, f, rmse, lower_bound, upper_bound))\n",
    "            for country in time_series['country'].unique():\n",
    "                c_id = X_test[X_test['country']==country]\n",
    "                labels_c = labels[c_id]\n",
    "                preds_c = preds[c_id]\n",
    "                rmse = mean_squared_error(labels_c, preds_c, squared=False)\n",
    "                stderr = diebold_mariano(preds_c, labels_c)\n",
    "                upper_bound = np.sqrt(rmse**2 + 1.96*stderr)\n",
    "                lower_bound = np.sqrt(rmse**2 - 1.96*stderr)\n",
    "                print (\"Country: {}, Method: {}, Split: {}, Features: {}, RMSE: {} [{}, {}]\".format(country, name, test, f, rmse, lower_bound, upper_bound))\n",
    "        "
   ]
  }
 ],
 "metadata": {
  "kernelspec": {
   "display_name": "Python 2",
   "language": "python",
   "name": "python2"
  },
  "language_info": {
   "codemirror_mode": {
    "name": "ipython",
    "version": 2
   },
   "file_extension": ".py",
   "mimetype": "text/x-python",
   "name": "python",
   "nbconvert_exporter": "python",
   "pygments_lexer": "ipython2",
   "version": "2.7.16"
  }
 },
 "nbformat": 4,
 "nbformat_minor": 2
}
